{
 "metadata": {
  "language_info": {
   "codemirror_mode": {
    "name": "ipython",
    "version": 3
   },
   "file_extension": ".py",
   "mimetype": "text/x-python",
   "name": "python",
   "nbconvert_exporter": "python",
   "pygments_lexer": "ipython3",
   "version": "3.7.9-final"
  },
  "orig_nbformat": 2,
  "kernelspec": {
   "name": "python3",
   "display_name": "Python 3.7.9 64-bit",
   "metadata": {
    "interpreter": {
     "hash": "343de2cd4032818e6bd6da839f7e326daa435e2ee81af0844da206feccdd3ad9"
    }
   }
  }
 },
 "nbformat": 4,
 "nbformat_minor": 2,
 "cells": [
  {
   "cell_type": "code",
   "execution_count": null,
   "metadata": {},
   "outputs": [],
   "source": [
    "import math\n",
    "\n",
    "def sig(x):\n",
    "    return (1/(1+(math.e**-x)))\n",
    "\n",
    "def logist(x, a, b):\n",
    "    return (1/(1+(math.e**(-(float(a)*float(x)+float(b))))))\n",
    "\n",
    "print(logist(0.4, 1, 1))\n",
    "print(logist(0.4,0.5,1))\n",
    "print(logist(1,1,1))"
   ]
  },
  {
   "source": [
    "## cost functions\n",
    "This is the difference between the estimated values and the real values.\n",
    "\n",
    "There are many different cost functions but one of the most popular is the meas absolute error.\n",
    "This can be calulated by:\n",
    "\n",
    "$MAE = \\frac{1}{m}\\sum^{m}_{i=1}|\\hat{y}^i - y^i|$\n",
    "\n",
    "where:\n",
    "- $i$ = index of sample\n",
    "- $\\hat{y}$ = predicted value\n",
    "- $y$ = expected value\n",
    "- $m$ = number of samples in the dataset\n",
    "\n"
   ],
   "cell_type": "markdown",
   "metadata": {}
  },
  {
   "cell_type": "code",
   "execution_count": 12,
   "metadata": {},
   "outputs": [],
   "source": [
    "import numpy as np\n",
    "def mae(predictions, targets):\n",
    "    samples_num = len(predictions)\n",
    "    accumulated_error = 0.0\n",
    "    for prediction, target in zip(predictions, targets):\n",
    "        accumulated_error += np.abs(prediction-target)\n",
    "        \n",
    "    mae_error = (1.0/samples_num) * accumulated_error\n",
    "\n",
    "    return mae_error"
   ]
  },
  {
   "source": [
    "another popular cost function is mean squared error, which can be calculated by\n",
    "\n",
    "$MSE = \\frac{1}{2m}\\sum^{m}_{i=1}(\\hat{y}^i - y^i)^2$\n",
    "\n",
    "where:\n",
    "- $i$ = index of sample\n",
    "- $\\hat{y}$ = predicted value\n",
    "- $y$ = expected value\n",
    "- $m$ = number of samples in the dataset"
   ],
   "cell_type": "markdown",
   "metadata": {}
  },
  {
   "cell_type": "code",
   "execution_count": 11,
   "metadata": {},
   "outputs": [],
   "source": [
    "def mse(predictions, targets):\n",
    "    samples_num = len(predictions)\n",
    "    \n",
    "    accumulated_error = 0.0\n",
    "    for prediction, target in zip(predictions, targets):\n",
    "        accumulated_error += (prediction - target)**2\n",
    "        \n",
    "    mse_error = (1.0 / (2*samples_num)) * accumulated_error\n",
    "    \n",
    "    return mse_error\n"
   ]
  },
  {
   "source": [
    "## what is the difference between MAE and MSE?\n",
    "\n",
    "MAE doesnt add any additional weight to the distance between points - the error growth is linear.\n",
    "\n",
    "MSE error grows exponentially with larger values of distance. It's a metric that adds a massive penalty to points which are far away and a moinimal penalty for points which are close to the expected result.\n"
   ],
   "cell_type": "markdown",
   "metadata": {}
  },
  {
   "cell_type": "code",
   "execution_count": 23,
   "metadata": {},
   "outputs": [
    {
     "output_type": "stream",
     "name": "stdout",
     "text": [
      "mean squared error between predictions of [0, 1, 1, 0] and targets of [1, 0, 1, 0] is 0.25\nmean absolute error between predictions of [0, 1, 1, 0] and targets of [1, 0, 1, 0] is 0.5\n"
     ]
    }
   ],
   "source": [
    "predictions = [0,1,1,0]\n",
    "targets = [1,0,1,0]\n",
    "print(\"mean squared error between predictions of {} and targets of {} is {}\".format(predictions, targets, mse(predictions,targets)))\n",
    "print(\"mean absolute error between predictions of {} and targets of {} is {}\".format(predictions, targets, mae(predictions,targets)))\n"
   ]
  },
  {
   "source": [
    "<img src=\"https://miro.medium.com/max/2000/1*_CqqBEbpdnb0MIqS3kMTEQ.png\">\n",
    "\n",
    "## Why do we use cost functions?\n",
    "\n",
    "We use cost functions so that we know how wrong we are and so we know hoe much we need to correct by."
   ],
   "cell_type": "markdown",
   "metadata": {}
  }
 ]
}