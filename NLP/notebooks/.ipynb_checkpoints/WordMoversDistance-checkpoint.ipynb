{
 "cells": [
  {
   "cell_type": "markdown",
   "metadata": {},
   "source": [
    "# Hello again, welcome to another notebook!\n",
    "\n",
    "In this notebook we will look at:\n",
    "\n",
    "* Measuring the distances between sentences using the Word Mover's Distance\n",
    "* Comparing different distance metrics for sentences.\n",
    "\n",
    "It is recommended that you complete all exercises that are not marked as optional.\n",
    "\n",
    "Feel free to be creative and write your own code wherever you want!"
   ]
  },
  {
   "cell_type": "markdown",
   "metadata": {},
   "source": [
    "## Imports"
   ]
  },
  {
   "cell_type": "code",
   "execution_count": 1,
   "metadata": {},
   "outputs": [
    {
     "name": "stderr",
     "output_type": "stream",
     "text": [
      "[nltk_data] Downloading package stopwords to\n",
      "[nltk_data]     /Users/x1908440/nltk_data...\n",
      "[nltk_data]   Package stopwords is already up-to-date!\n"
     ]
    }
   ],
   "source": [
    "import numpy as np\n",
    "import string\n",
    "import os\n",
    "\n",
    "from nltk import download\n",
    "download('stopwords')\n",
    "from nltk.corpus import stopwords\n",
    "\n",
    "import gensim.downloader as api\n",
    "from gensim.models.keyedvectors import Word2VecKeyedVectors"
   ]
  },
  {
   "cell_type": "markdown",
   "metadata": {},
   "source": [
    "We will need to preprocess our sentences using some of the functions from the ```PreparingTextData``` notebook. Let's copy these here:"
   ]
  },
  {
   "cell_type": "code",
   "execution_count": 3,
   "metadata": {},
   "outputs": [],
   "source": [
    "from nltk.corpus import stopwords\n",
    "\n",
    "stop_words = stopwords.words('english')\n",
    "\n",
    "def basic_tokenizer(sentence):\n",
    "    out = sentence\n",
    "    for x in string.punctuation:\n",
    "        out = out.replace(x, '')\n",
    "    out = out.lower().split()\n",
    "    return out\n",
    "\n",
    "def remove_stopwords(sentence, stop_words):\n",
    "    return [word for word in sentence if word not in stop_words]\n",
    "\n",
    "def preprocess(sentence, stop_words):\n",
    "    clean_sentence = remove_stopwords(basic_tokenizer(sentence), stop_words)\n",
    "    return clean_sentence"
   ]
  },
  {
   "cell_type": "markdown",
   "metadata": {},
   "source": [
    "We will also need the Word2Vec vectors that we downloaded in the ```CosineSimilarity``` notebook. We will normalise the vectors as we did before, to speed up any similarity calculations."
   ]
  },
  {
   "cell_type": "code",
   "execution_count": 4,
   "metadata": {},
   "outputs": [],
   "source": [
    "model = Word2VecKeyedVectors.load(\"./models/word2vec.model\")\n",
    "model.init_sims(replace=True)"
   ]
  },
  {
   "cell_type": "markdown",
   "metadata": {},
   "source": [
    "## Lesson 1: Word Mover's Distance\n",
    "\n",
    "The Word Mover's Distance (WMD) is a measure of the 'distance' between two text documents (or sentences).\n",
    "\n",
    "<img src=\"data:image/png;base64,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\" width=\"600\">\n",
    "\n",
    "All non-stopwords (**bold**) of both sentences are embedded in a word2vec space. The distance between the two sentences is the minimum cumulative distance that the words in the first sentence must travel to exactly match those in the second.\n",
    "\n",
    "The image below shows how the WMD is calculated for two different cases:\n",
    "\n",
    "<img src=\"data:image/png;base64,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\" width=\"500\">\n",
    "\n",
    "In the top example, we have two sentences, $D_1$ and $D_2$ that have no non-stopwords in common with a third sentences $D_0$. The arrows represent the flow between two words (this is a technical term but is really just 'which word moves where') and are labelled by their contribution to the overall distance. Notice that $D_1$ is closer to $D_0$ than $D_2$. This is what we'd expect!\n",
    "\n",
    "On the bottom, we have two sentences with different numbers of words. This results in words from $D_3$ being moved to multiple similar words.\n",
    "\n",
    "(**Source**: http://proceedings.mlr.press/v37/kusnerb15.pdf)\n",
    "\n",
    "The maths behind the WMD is pretty complicated, but hopefully this high level description should give you a good idea of what it's measuring! Rather than implementing it ourselves, we will use the ```.wmdistance()``` function in Python's ```gensim``` library.\n",
    "\n",
    "Let's start by preprocessing a couple of sentences ```D0``` and ```D1``` from the example above:"
   ]
  },
  {
   "cell_type": "code",
   "execution_count": 6,
   "metadata": {},
   "outputs": [
    {
     "name": "stdout",
     "output_type": "stream",
     "text": [
      "The president greets the press in Chicago ['president', 'greets', 'press', 'chicago']\n",
      "Obama speaks to the media in Illinois ['obama', 'speaks', 'media', 'illinois']\n"
     ]
    }
   ],
   "source": [
    "D0 = 'The president greets the press in Chicago'\n",
    "D1 = 'Obama speaks to the media in Illinois'\n",
    "\n",
    "D0_preprocessed = preprocess(D0, stop_words)\n",
    "D1_preprocessed = preprocess(D1, stop_words)\n",
    "\n",
    "print(D0, D0_preprocessed)\n",
    "print(D1, D1_preprocessed)"
   ]
  },
  {
   "cell_type": "markdown",
   "metadata": {},
   "source": [
    "Now calculating the WMD is really easy! Remember that ```model``` is our Word2Vec model from above, and note that the preprocessed sentences ```D0``` and ```D1``` should be fed into ```.wmdistance()``` rather than the sentences themselves."
   ]
  },
  {
   "cell_type": "code",
   "execution_count": 8,
   "metadata": {},
   "outputs": [
    {
     "name": "stdout",
     "output_type": "stream",
     "text": [
      "The president greets the press in Chicago\n",
      "Obama speaks to the media in Illinois\n",
      "WMD: 1.0175\n"
     ]
    }
   ],
   "source": [
    "wmd = model.wmdistance(D0_preprocessed, D1_preprocessed)\n",
    "print(D0)\n",
    "print(D1)\n",
    "print(f'WMD: {wmd:.4f}')"
   ]
  },
  {
   "cell_type": "markdown",
   "metadata": {},
   "source": [
    "### Exercise 3: WMD"
   ]
  },
  {
   "cell_type": "code",
   "execution_count": 10,
   "metadata": {},
   "outputs": [
    {
     "ename": "SyntaxError",
     "evalue": "invalid syntax (<ipython-input-10-daf596507d2f>, line 3)",
     "output_type": "error",
     "traceback": [
      "\u001b[0;36m  File \u001b[0;32m\"<ipython-input-10-daf596507d2f>\"\u001b[0;36m, line \u001b[0;32m3\u001b[0m\n\u001b[0;31m    first_sentence = # TODO: Insert your favourite sentence\u001b[0m\n\u001b[0m                                                           ^\u001b[0m\n\u001b[0;31mSyntaxError\u001b[0m\u001b[0;31m:\u001b[0m invalid syntax\n"
     ]
    }
   ],
   "source": [
    "# Q3.1 - What's the WMD between two identical sentences?\n",
    "\n",
    "first_sentence = # TODO: Insert your favourite sentence\n",
    "# TODO: Preprocess your `first_sentence`\n",
    "# TODO: Call the WMD on your preprocessed `first_sentence` with itself"
   ]
  },
  {
   "cell_type": "code",
   "execution_count": null,
   "metadata": {},
   "outputs": [],
   "source": [
    "# Q3.2 - What's the maximum (finite) WMD that you can find?\n",
    "#      - What can you say about the bounds of WMD compared to other distance metrics?\n",
    "\n",
    "second_sentence = # TODO: Insert a sentence 'far' from `first_sentence`\n",
    "# TODO: Preprocess your second sentence\n",
    "# TODO: Call the WMD on your preprocessed sentences"
   ]
  },
  {
   "cell_type": "markdown",
   "metadata": {},
   "source": [
    "## Lesson 4: Comparing distance metrics\n",
    "\n",
    "Let's compare the Word Mover's Distance for various sentences to the Jaccard Distance that we calculated in the first notebook. Remember that in order to calculate the Jaccard Distance, we'll need to come up with a Bag of Words representation for our sentences.\n",
    "\n",
    "The function below calculates a BoW representation and vocabulary for a list of preprocessed sentences, e.g.\n",
    "\n",
    "```[['obama', 'speaks', 'media', 'illinois'], ['president', 'greets', 'press', 'chicago']]```.\n",
    "\n",
    "This is slightly different to the function that we saw in the JaccardDistance notebook which took a list of strings (un-tokenized sentences) as input."
   ]
  },
  {
   "cell_type": "code",
   "execution_count": 12,
   "metadata": {},
   "outputs": [],
   "source": [
    "def get_bow_and_vocab(sentences):\n",
    "    vocab = list(set(sentences[0]).union(*sentences[1:]))\n",
    "    bow = [[s.count(word) for word in vocab] for s in sentences]\n",
    "    return bow, vocab"
   ]
  },
  {
   "cell_type": "code",
   "execution_count": 13,
   "metadata": {},
   "outputs": [],
   "source": [
    "bow, vocab = get_bow_and_vocab([D0_preprocessed, D1_preprocessed])"
   ]
  },
  {
   "cell_type": "markdown",
   "metadata": {},
   "source": [
    "Now we can use the ```calculate_jaccard_dist``` function from the ```JaccardDistance``` notebook to calculate the Jaccard distance between our two sentences."
   ]
  },
  {
   "cell_type": "code",
   "execution_count": 14,
   "metadata": {},
   "outputs": [],
   "source": [
    "def calculate_jaccard_dist(u, v):\n",
    "    intersection = 0\n",
    "    union = 0\n",
    "    for i in range(len(u)):\n",
    "        \n",
    "        # The word is present in both vectors\n",
    "        if u[i] > 0 and v[i] > 0:\n",
    "            intersection += 1\n",
    "            \n",
    "        # The word is present in one of the vectors\n",
    "        if u[i] > 0 or v[i] > 0:\n",
    "            union += 1\n",
    "            \n",
    "    jaccard_dist = 1 - (intersection / union)\n",
    "    return jaccard_dist"
   ]
  },
  {
   "cell_type": "code",
   "execution_count": 15,
   "metadata": {},
   "outputs": [
    {
     "name": "stdout",
     "output_type": "stream",
     "text": [
      "The president greets the press in Chicago\n",
      "Obama speaks to the media in Illinois\n",
      "Jaccard distance: 1.0000\n"
     ]
    }
   ],
   "source": [
    "# Jaccard distance between s1 and s2\n",
    "jaccard = calculate_jaccard_dist(bow[0], bow[1])\n",
    "print(D0)\n",
    "print(D1)\n",
    "print(f'Jaccard distance: {jaccard:.4f}')"
   ]
  },
  {
   "cell_type": "markdown",
   "metadata": {},
   "source": [
    "### Exercise 4: Comparing distance metrics"
   ]
  },
  {
   "cell_type": "code",
   "execution_count": 17,
   "metadata": {},
   "outputs": [],
   "source": [
    "# Q4.1 - What do you notice about the Jaccard distance compared to the WMD between sentences D0 and D1?\n",
    "#      - (HINT: Remember to think about the maximum and minimum values of each metric in your answer.)\n",
    "# Q4.2 - Which metric would you say is more realistic, and why?\n",
    "#      - (HINT: How does each metric handle synonyms?)"
   ]
  },
  {
   "cell_type": "markdown",
   "metadata": {},
   "source": [
    "# Example EMD implementation\n",
    "\n",
    "#### Pete - Is it possible to build them up to this?\n",
    "#### Pete - Could they slowly fill in ```calculate_emd_and_pairs```?\n",
    "#### Pete - I think it is useful to see the matching between words here\n",
    "\n",
    "#### Zoe - TODO: think about how to make this student-friendly - is the maths/Python doable? Agree that seeing the matching is really helpful."
   ]
  },
  {
   "cell_type": "code",
   "execution_count": 143,
   "metadata": {},
   "outputs": [],
   "source": [
    "from lapsolver import solve_dense\n",
    "\n",
    "def calculate_dist_matrix(u, v):\n",
    "    mat = np.zeros(shape=(len(u), len(v)), dtype=np.float32)\n",
    "    for i in range(len(u)):\n",
    "        for j in range(len(v)):\n",
    "            # We use the negation of the Cosine similarity here\n",
    "            # The Euclidean distance works too\n",
    "            mat[i][j] = 1 - np.dot(u[i], v[j])\n",
    "    return mat\n",
    "\n",
    "def calculate_emd_and_pairs(s1, s2, model, stop_words):\n",
    "    # Clean the sentences\n",
    "    clean_s1 = preprocess(s1, stop_words)\n",
    "    clean_s2 = preprocess(s2, stop_words)\n",
    "\n",
    "    # Apply Word2Vec to the sentences\n",
    "    s1_vec = [model[w] for w in clean_s1]\n",
    "    s2_vec = [model[w] for w in clean_s2]\n",
    "    \n",
    "    # Calculate the distances between all the word vectors\n",
    "    dist_matrix = calculate_dist_matrix(s1_vec, s2_vec)\n",
    "    \n",
    "    # Pair the word vectors together\n",
    "    assignment = solve_dense(dist_matrix)\n",
    "    pairs = [(clean_s1[i], clean_s2[j]) for i, j in zip(assignment[0], assignment[1])]\n",
    "    \n",
    "    # Take the mean of the distances between pairs\n",
    "    emd = np.mean(dist_matrix[assignment])\n",
    "    \n",
    "    return emd, pairs"
   ]
  },
  {
   "cell_type": "code",
   "execution_count": 167,
   "metadata": {},
   "outputs": [
    {
     "name": "stdout",
     "output_type": "stream",
     "text": [
      "The EMD between \"shop car apple\" and \"pear supermarket lorry\" is 0.4683\n",
      "The pairs are: [('shop', 'supermarket'), ('car', 'lorry'), ('apple', 'pear')]\n"
     ]
    }
   ],
   "source": [
    "s1 = 'shop car apple'\n",
    "s2 = 'pear supermarket lorry'\n",
    "emd, pairs = calculate_emd_and_pairs(s1, s2, model, stop_words)\n",
    "\n",
    "print(f'The EMD between \"{s1}\" and \"{s2}\" is {emd:.4f}')\n",
    "print(f'The pairs are: {pairs}')"
   ]
  },
  {
   "cell_type": "code",
   "execution_count": null,
   "metadata": {},
   "outputs": [],
   "source": []
  }
 ],
 "metadata": {
  "kernelspec": {
   "display_name": "Python 3",
   "language": "python",
   "name": "python3"
  },
  "language_info": {
   "codemirror_mode": {
    "name": "ipython",
    "version": 3
   },
   "file_extension": ".py",
   "mimetype": "text/x-python",
   "name": "python",
   "nbconvert_exporter": "python",
   "pygments_lexer": "ipython3",
   "version": "3.7.4"
  }
 },
 "nbformat": 4,
 "nbformat_minor": 2
}
