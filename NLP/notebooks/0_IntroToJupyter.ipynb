{
 "cells": [
  {
   "cell_type": "markdown",
   "metadata": {},
   "source": [
    "# Welcome to notebook 0"
   ]
  },
  {
   "cell_type": "markdown",
   "metadata": {},
   "source": [
    "#### Hello, I am a cell! Press Shift+Enter to run me :)"
   ]
  },
  {
   "cell_type": "code",
   "execution_count": 10,
   "metadata": {},
   "outputs": [
    {
     "output_type": "stream",
     "name": "stdout",
     "text": [
      "Hello World\n"
     ]
    }
   ],
   "source": [
    "print('Hello World')"
   ]
  },
  {
   "cell_type": "code",
   "execution_count": 11,
   "metadata": {},
   "outputs": [],
   "source": [
    "# Challenge 1 - Print your name and how you're feeling"
   ]
  },
  {
   "cell_type": "code",
   "execution_count": null,
   "metadata": {},
   "outputs": [],
   "source": [
    "# TODO"
   ]
  },
  {
   "cell_type": "markdown",
   "metadata": {},
   "source": [
    "#### Notice that the output appeared below the cell. We can also display variables this way"
   ]
  },
  {
   "cell_type": "code",
   "execution_count": 12,
   "metadata": {},
   "outputs": [
    {
     "output_type": "execute_result",
     "data": {
      "text/plain": [
       "'Hello World'"
      ]
     },
     "metadata": {},
     "execution_count": 12
    }
   ],
   "source": [
    "string = 'Hello World'\n",
    "string"
   ]
  },
  {
   "cell_type": "markdown",
   "metadata": {},
   "source": [
    "#### Variables in Jupyter notebooks are global. They can be accessed in any cell"
   ]
  },
  {
   "cell_type": "code",
   "execution_count": 13,
   "metadata": {},
   "outputs": [
    {
     "output_type": "execute_result",
     "data": {
      "text/plain": [
       "'Hello World'"
      ]
     },
     "metadata": {},
     "execution_count": 13
    }
   ],
   "source": [
    "# `string` is not defined in this cell, but in the cell above\n",
    "\n",
    "string"
   ]
  },
  {
   "cell_type": "code",
   "execution_count": 15,
   "metadata": {},
   "outputs": [],
   "source": [
    "# Challenge 2 - Try to display a variable that doesn't exist yet\n",
    "#             - What happens?"
   ]
  },
  {
   "cell_type": "code",
   "execution_count": 14,
   "metadata": {},
   "outputs": [],
   "source": [
    "# TODO"
   ]
  },
  {
   "cell_type": "markdown",
   "metadata": {},
   "source": [
    "#### When a cell is running, a star will appear in the box to the left\n",
    "\n",
    "#### When it finishes, the star will be replaced by a number which tracks the order in which your ran the cells\n",
    "\n",
    "#### If the star is not disappearing, your notebook has probably crashed. If this happens go to the bar at the top of the notebook, click the tab called Kernel and then press Restart  "
   ]
  },
  {
   "cell_type": "code",
   "execution_count": null,
   "metadata": {},
   "outputs": [],
   "source": [
    "# Challenge 3 - Try to make this cell run for a long time by changing `limit`\n",
    "#             - Reset your notebook after this happens"
   ]
  },
  {
   "cell_type": "code",
   "execution_count": 1,
   "metadata": {},
   "outputs": [],
   "source": [
    "i = 0\n",
    "limit = # TODO\n",
    "for _ in range(limit):\n",
    "    i += 1"
   ]
  },
  {
   "source": [
    "#### There are two main types of cell, \"code\" and \"markdown\". \n",
    "\n",
    "#### Markdown cells are primarily used for annotating code and adding structure to a notebook. \n",
    "\n",
    "\n",
    "#### You can swap between these two types of cell by clicking the tab to the left of the keyboard."
   ],
   "cell_type": "markdown",
   "metadata": {}
  },
  {
   "source": [
    "# Challenge 4\n",
    "\n",
    "* I am a cell of the wrong type :(\n",
    "* Please convert me to \"markdown\" to reveal my majestic formula\n",
    "* $x = \\frac{-b \\pm \\sqrt{b^{2} - 4ac}}{2a}$    "
   ],
   "cell_type": "markdown",
   "metadata": {}
  },
  {
   "cell_type": "markdown",
   "metadata": {},
   "source": [
    "#### You can use Bash in the notebook if you add an '!' before your command"
   ]
  },
  {
   "cell_type": "code",
   "execution_count": 1,
   "metadata": {},
   "outputs": [
    {
     "output_type": "stream",
     "name": "stdout",
     "text": [
      "Hello World\n"
     ]
    }
   ],
   "source": [
    "!echo Hello World"
   ]
  },
  {
   "cell_type": "markdown",
   "metadata": {},
   "source": [
    "#### If a graph is plotted, it will be displayed below the cell\n",
    "#### By adding `%matplotlib inline`, we don't even need to call `plt.show()`"
   ]
  },
  {
   "cell_type": "code",
   "execution_count": null,
   "metadata": {},
   "outputs": [],
   "source": [
    "# Challenge 5 - I've tried to plot a smiley face, but I've forgotten about the eyes\n",
    "#             - Help save the day by letting poor smiley see again\n",
    "#             - Ext: Make your smiley beautiful by adorning them with hair"
   ]
  },
  {
   "cell_type": "code",
   "execution_count": 8,
   "metadata": {},
   "outputs": [
    {
     "output_type": "execute_result",
     "data": {
      "text/plain": [
       "[<matplotlib.lines.Line2D at 0x4e14ac0>]"
      ]
     },
     "metadata": {},
     "execution_count": 8
    },
    {
     "output_type": "display_data",
     "data": {
      "text/plain": "<Figure size 432x288 with 1 Axes>",
      "image/svg+xml": "<?xml version=\"1.0\" encoding=\"utf-8\" standalone=\"no\"?>\r\n<!DOCTYPE svg PUBLIC \"-//W3C//DTD SVG 1.1//EN\"\r\n  \"http://www.w3.org/Graphics/SVG/1.1/DTD/svg11.dtd\">\r\n<!-- Created with matplotlib (https://matplotlib.org/) -->\r\n<svg height=\"248.518125pt\" version=\"1.1\" viewBox=\"0 0 370.942187 248.518125\" width=\"370.942187pt\" xmlns=\"http://www.w3.org/2000/svg\" xmlns:xlink=\"http://www.w3.org/1999/xlink\">\r\n <metadata>\r\n  <rdf:RDF xmlns:cc=\"http://creativecommons.org/ns#\" xmlns:dc=\"http://purl.org/dc/elements/1.1/\" xmlns:rdf=\"http://www.w3.org/1999/02/22-rdf-syntax-ns#\">\r\n   <cc:Work>\r\n    <dc:type rdf:resource=\"http://purl.org/dc/dcmitype/StillImage\"/>\r\n    <dc:date>2021-01-15T16:26:13.074569</dc:date>\r\n    <dc:format>image/svg+xml</dc:format>\r\n    <dc:creator>\r\n     <cc:Agent>\r\n      <dc:title>Matplotlib v3.3.3, https://matplotlib.org/</dc:title>\r\n     </cc:Agent>\r\n    </dc:creator>\r\n   </cc:Work>\r\n  </rdf:RDF>\r\n </metadata>\r\n <defs>\r\n  <style type=\"text/css\">*{stroke-linecap:butt;stroke-linejoin:round;}</style>\r\n </defs>\r\n <g id=\"figure_1\">\r\n  <g id=\"patch_1\">\r\n   <path d=\"M 0 248.518125 \r\nL 370.942187 248.518125 \r\nL 370.942187 0 \r\nL 0 0 \r\nz\r\n\" style=\"fill:none;\"/>\r\n  </g>\r\n  <g id=\"axes_1\">\r\n   <g id=\"patch_2\">\r\n    <path d=\"M 28.942188 224.64 \r\nL 363.742188 224.64 \r\nL 363.742188 7.2 \r\nL 28.942188 7.2 \r\nz\r\n\" style=\"fill:#ffffff;\"/>\r\n   </g>\r\n   <g id=\"PathCollection_1\">\r\n    <defs>\r\n     <path d=\"M 0 3 \r\nC 0.795609 3 1.55874 2.683901 2.12132 2.12132 \r\nC 2.683901 1.55874 3 0.795609 3 0 \r\nC 3 -0.795609 2.683901 -1.55874 2.12132 -2.12132 \r\nC 1.55874 -2.683901 0.795609 -3 0 -3 \r\nC -0.795609 -3 -1.55874 -2.683901 -2.12132 -2.12132 \r\nC -2.683901 -1.55874 -3 -0.795609 -3 0 \r\nC -3 0.795609 -2.683901 1.55874 -2.12132 2.12132 \r\nC -1.55874 2.683901 -0.795609 3 0 3 \r\nz\r\n\" id=\"m4e688ba332\" style=\"stroke:#1f77b4;\"/>\r\n    </defs>\r\n    <g clip-path=\"url(#p21f757bd7a)\">\r\n     <use style=\"fill:#1f77b4;stroke:#1f77b4;\" x=\"348.524006\" xlink:href=\"#m4e688ba332\" y=\"115.902716\"/>\r\n     <use style=\"fill:#1f77b4;stroke:#1f77b4;\" x=\"347.763402\" xlink:href=\"#m4e688ba332\" y=\"106.033062\"/>\r\n     <use style=\"fill:#1f77b4;stroke:#1f77b4;\" x=\"345.489189\" xlink:href=\"#m4e688ba332\" y=\"96.262021\"/>\r\n     <use style=\"fill:#1f77b4;stroke:#1f77b4;\" x=\"341.724091\" xlink:href=\"#m4e688ba332\" y=\"86.687224\"/>\r\n     <use style=\"fill:#1f77b4;stroke:#1f77b4;\" x=\"336.505727\" xlink:href=\"#m4e688ba332\" y=\"77.404338\"/>\r\n     <use style=\"fill:#1f77b4;stroke:#1f77b4;\" x=\"329.886238\" xlink:href=\"#m4e688ba332\" y=\"68.506116\"/>\r\n     <use style=\"fill:#1f77b4;stroke:#1f77b4;\" x=\"321.931763\" xlink:href=\"#m4e688ba332\" y=\"60.081465\"/>\r\n     <use style=\"fill:#1f77b4;stroke:#1f77b4;\" x=\"312.72178\" xlink:href=\"#m4e688ba332\" y=\"52.214561\"/>\r\n     <use style=\"fill:#1f77b4;stroke:#1f77b4;\" x=\"302.348314\" xlink:href=\"#m4e688ba332\" y=\"44.984008\"/>\r\n     <use style=\"fill:#1f77b4;stroke:#1f77b4;\" x=\"290.915011\" xlink:href=\"#m4e688ba332\" y=\"38.462051\"/>\r\n     <use style=\"fill:#1f77b4;stroke:#1f77b4;\" x=\"278.53611\" xlink:href=\"#m4e688ba332\" y=\"32.713856\"/>\r\n     <use style=\"fill:#1f77b4;stroke:#1f77b4;\" x=\"265.335297\" xlink:href=\"#m4e688ba332\" y=\"27.796857\"/>\r\n     <use style=\"fill:#1f77b4;stroke:#1f77b4;\" x=\"251.44447\" xlink:href=\"#m4e688ba332\" y=\"23.760182\"/>\r\n     <use style=\"fill:#1f77b4;stroke:#1f77b4;\" x=\"237.002421\" xlink:href=\"#m4e688ba332\" y=\"20.644165\"/>\r\n     <use style=\"fill:#1f77b4;stroke:#1f77b4;\" x=\"222.153451\" xlink:href=\"#m4e688ba332\" y=\"18.47994\"/>\r\n     <use style=\"fill:#1f77b4;stroke:#1f77b4;\" x=\"207.045925\" xlink:href=\"#m4e688ba332\" y=\"17.289131\"/>\r\n     <use style=\"fill:#1f77b4;stroke:#1f77b4;\" x=\"191.830793\" xlink:href=\"#m4e688ba332\" y=\"17.083636\"/>\r\n     <use style=\"fill:#1f77b4;stroke:#1f77b4;\" x=\"176.66008\" xlink:href=\"#m4e688ba332\" y=\"17.865509\"/>\r\n     <use style=\"fill:#1f77b4;stroke:#1f77b4;\" x=\"161.685366\" xlink:href=\"#m4e688ba332\" y=\"19.626938\"/>\r\n     <use style=\"fill:#1f77b4;stroke:#1f77b4;\" x=\"147.056274\" xlink:href=\"#m4e688ba332\" y=\"22.350322\"/>\r\n     <use style=\"fill:#1f77b4;stroke:#1f77b4;\" x=\"132.918972\" xlink:href=\"#m4e688ba332\" y=\"26.008451\"/>\r\n     <use style=\"fill:#1f77b4;stroke:#1f77b4;\" x=\"119.414717\" xlink:href=\"#m4e688ba332\" y=\"30.564773\"/>\r\n     <use style=\"fill:#1f77b4;stroke:#1f77b4;\" x=\"106.678437\" xlink:href=\"#m4e688ba332\" y=\"35.973764\"/>\r\n     <use style=\"fill:#1f77b4;stroke:#1f77b4;\" x=\"94.837391\" xlink:href=\"#m4e688ba332\" y=\"42.181379\"/>\r\n     <use style=\"fill:#1f77b4;stroke:#1f77b4;\" x=\"84.009889\" xlink:href=\"#m4e688ba332\" y=\"49.125593\"/>\r\n     <use style=\"fill:#1f77b4;stroke:#1f77b4;\" x=\"74.304116\" xlink:href=\"#m4e688ba332\" y=\"56.737022\"/>\r\n     <use style=\"fill:#1f77b4;stroke:#1f77b4;\" x=\"65.81705\" xlink:href=\"#m4e688ba332\" y=\"64.939615\"/>\r\n     <use style=\"fill:#1f77b4;stroke:#1f77b4;\" x=\"58.633489\" xlink:href=\"#m4e688ba332\" y=\"73.651414\"/>\r\n     <use style=\"fill:#1f77b4;stroke:#1f77b4;\" x=\"52.825211\" xlink:href=\"#m4e688ba332\" y=\"82.785374\"/>\r\n     <use style=\"fill:#1f77b4;stroke:#1f77b4;\" x=\"48.450249\" xlink:href=\"#m4e688ba332\" y=\"92.250232\"/>\r\n     <use style=\"fill:#1f77b4;stroke:#1f77b4;\" x=\"45.552317\" xlink:href=\"#m4e688ba332\" y=\"101.951418\"/>\r\n     <use style=\"fill:#1f77b4;stroke:#1f77b4;\" x=\"44.160369\" xlink:href=\"#m4e688ba332\" y=\"111.792001\"/>\r\n     <use style=\"fill:#1f77b4;stroke:#1f77b4;\" x=\"44.288314\" xlink:href=\"#m4e688ba332\" y=\"121.673656\"/>\r\n     <use style=\"fill:#1f77b4;stroke:#1f77b4;\" x=\"45.934874\" xlink:href=\"#m4e688ba332\" y=\"131.49765\"/>\r\n     <use style=\"fill:#1f77b4;stroke:#1f77b4;\" x=\"49.083595\" xlink:href=\"#m4e688ba332\" y=\"141.165825\"/>\r\n     <use style=\"fill:#1f77b4;stroke:#1f77b4;\" x=\"53.703018\" xlink:href=\"#m4e688ba332\" y=\"150.581579\"/>\r\n     <use style=\"fill:#1f77b4;stroke:#1f77b4;\" x=\"59.746987\" xlink:href=\"#m4e688ba332\" y=\"159.650834\"/>\r\n     <use style=\"fill:#1f77b4;stroke:#1f77b4;\" x=\"67.155112\" xlink:href=\"#m4e688ba332\" y=\"168.282971\"/>\r\n     <use style=\"fill:#1f77b4;stroke:#1f77b4;\" x=\"75.853373\" xlink:href=\"#m4e688ba332\" y=\"176.391743\"/>\r\n     <use style=\"fill:#1f77b4;stroke:#1f77b4;\" x=\"85.754862\" xlink:href=\"#m4e688ba332\" y=\"183.896128\"/>\r\n     <use style=\"fill:#1f77b4;stroke:#1f77b4;\" x=\"96.760644\" xlink:href=\"#m4e688ba332\" y=\"190.721145\"/>\r\n     <use style=\"fill:#1f77b4;stroke:#1f77b4;\" x=\"108.760755\" xlink:href=\"#m4e688ba332\" y=\"196.798601\"/>\r\n     <use style=\"fill:#1f77b4;stroke:#1f77b4;\" x=\"121.635292\" xlink:href=\"#m4e688ba332\" y=\"202.067773\"/>\r\n     <use style=\"fill:#1f77b4;stroke:#1f77b4;\" x=\"135.255618\" xlink:href=\"#m4e688ba332\" y=\"206.476012\"/>\r\n     <use style=\"fill:#1f77b4;stroke:#1f77b4;\" x=\"149.485643\" xlink:href=\"#m4e688ba332\" y=\"209.979272\"/>\r\n     <use style=\"fill:#1f77b4;stroke:#1f77b4;\" x=\"164.183186\" xlink:href=\"#m4e688ba332\" y=\"212.54255\"/>\r\n     <use style=\"fill:#1f77b4;stroke:#1f77b4;\" x=\"179.201393\" xlink:href=\"#m4e688ba332\" y=\"214.140235\"/>\r\n     <use style=\"fill:#1f77b4;stroke:#1f77b4;\" x=\"194.390207\" xlink:href=\"#m4e688ba332\" y=\"214.756364\"/>\r\n     <use style=\"fill:#1f77b4;stroke:#1f77b4;\" x=\"209.597867\" xlink:href=\"#m4e688ba332\" y=\"214.384779\"/>\r\n     <use style=\"fill:#1f77b4;stroke:#1f77b4;\" x=\"224.672422\" xlink:href=\"#m4e688ba332\" y=\"213.029194\"/>\r\n     <use style=\"fill:#1f77b4;stroke:#1f77b4;\" x=\"239.463254\" xlink:href=\"#m4e688ba332\" y=\"210.703154\"/>\r\n     <use style=\"fill:#1f77b4;stroke:#1f77b4;\" x=\"253.822576\" xlink:href=\"#m4e688ba332\" y=\"207.429898\"/>\r\n     <use style=\"fill:#1f77b4;stroke:#1f77b4;\" x=\"267.606916\" xlink:href=\"#m4e688ba332\" y=\"203.242134\"/>\r\n     <use style=\"fill:#1f77b4;stroke:#1f77b4;\" x=\"280.678544\" xlink:href=\"#m4e688ba332\" y=\"198.181703\"/>\r\n     <use style=\"fill:#1f77b4;stroke:#1f77b4;\" x=\"292.906853\" xlink:href=\"#m4e688ba332\" y=\"192.299167\"/>\r\n     <use style=\"fill:#1f77b4;stroke:#1f77b4;\" x=\"304.169662\" xlink:href=\"#m4e688ba332\" y=\"185.653304\"/>\r\n     <use style=\"fill:#1f77b4;stroke:#1f77b4;\" x=\"314.354437\" xlink:href=\"#m4e688ba332\" y=\"178.310515\"/>\r\n     <use style=\"fill:#1f77b4;stroke:#1f77b4;\" x=\"323.359415\" xlink:href=\"#m4e688ba332\" y=\"170.344169\"/>\r\n     <use style=\"fill:#1f77b4;stroke:#1f77b4;\" x=\"331.094621\" xlink:href=\"#m4e688ba332\" y=\"161.833861\"/>\r\n     <use style=\"fill:#1f77b4;stroke:#1f77b4;\" x=\"337.482767\" xlink:href=\"#m4e688ba332\" y=\"152.864625\"/>\r\n     <use style=\"fill:#1f77b4;stroke:#1f77b4;\" x=\"342.460025\" xlink:href=\"#m4e688ba332\" y=\"143.526077\"/>\r\n     <use style=\"fill:#1f77b4;stroke:#1f77b4;\" x=\"345.976665\" xlink:href=\"#m4e688ba332\" y=\"133.911526\"/>\r\n     <use style=\"fill:#1f77b4;stroke:#1f77b4;\" x=\"347.997548\" xlink:href=\"#m4e688ba332\" y=\"124.117037\"/>\r\n    </g>\r\n   </g>\r\n   <g id=\"PathCollection_2\">\r\n    <defs>\r\n     <path d=\"M 0 3 \r\nC 0.795609 3 1.55874 2.683901 2.12132 2.12132 \r\nC 2.683901 1.55874 3 0.795609 3 0 \r\nC 3 -0.795609 2.683901 -1.55874 2.12132 -2.12132 \r\nC 1.55874 -2.683901 0.795609 -3 0 -3 \r\nC -0.795609 -3 -1.55874 -2.683901 -2.12132 -2.12132 \r\nC -2.683901 -1.55874 -3 -0.795609 -3 0 \r\nC -3 0.795609 -2.683901 1.55874 -2.12132 2.12132 \r\nC -1.55874 2.683901 -0.795609 3 0 3 \r\nz\r\n\" id=\"m2556c0a63e\" style=\"stroke:#ff7f0e;\"/>\r\n    </defs>\r\n    <g clip-path=\"url(#p21f757bd7a)\">\r\n     <use style=\"fill:#ff7f0e;stroke:#ff7f0e;\" x=\"120.152525\" xlink:href=\"#m2556c0a63e\" y=\"115.902716\"/>\r\n     <use style=\"fill:#ff7f0e;stroke:#ff7f0e;\" x=\"120.532827\" xlink:href=\"#m2556c0a63e\" y=\"120.837544\"/>\r\n     <use style=\"fill:#ff7f0e;stroke:#ff7f0e;\" x=\"121.669933\" xlink:href=\"#m2556c0a63e\" y=\"125.723064\"/>\r\n     <use style=\"fill:#ff7f0e;stroke:#ff7f0e;\" x=\"123.552482\" xlink:href=\"#m2556c0a63e\" y=\"130.510463\"/>\r\n     <use style=\"fill:#ff7f0e;stroke:#ff7f0e;\" x=\"126.161664\" xlink:href=\"#m2556c0a63e\" y=\"135.151905\"/>\r\n     <use style=\"fill:#ff7f0e;stroke:#ff7f0e;\" x=\"129.471409\" xlink:href=\"#m2556c0a63e\" y=\"139.601017\"/>\r\n     <use style=\"fill:#ff7f0e;stroke:#ff7f0e;\" x=\"133.448646\" xlink:href=\"#m2556c0a63e\" y=\"143.813342\"/>\r\n     <use style=\"fill:#ff7f0e;stroke:#ff7f0e;\" x=\"138.053638\" xlink:href=\"#m2556c0a63e\" y=\"147.746794\"/>\r\n     <use style=\"fill:#ff7f0e;stroke:#ff7f0e;\" x=\"143.240371\" xlink:href=\"#m2556c0a63e\" y=\"151.362071\"/>\r\n     <use style=\"fill:#ff7f0e;stroke:#ff7f0e;\" x=\"148.957022\" xlink:href=\"#m2556c0a63e\" y=\"154.623049\"/>\r\n     <use style=\"fill:#ff7f0e;stroke:#ff7f0e;\" x=\"155.146473\" xlink:href=\"#m2556c0a63e\" y=\"157.497146\"/>\r\n     <use style=\"fill:#ff7f0e;stroke:#ff7f0e;\" x=\"161.746879\" xlink:href=\"#m2556c0a63e\" y=\"159.955646\"/>\r\n     <use style=\"fill:#ff7f0e;stroke:#ff7f0e;\" x=\"168.692293\" xlink:href=\"#m2556c0a63e\" y=\"161.973984\"/>\r\n     <use style=\"fill:#ff7f0e;stroke:#ff7f0e;\" x=\"175.913317\" xlink:href=\"#m2556c0a63e\" y=\"163.531992\"/>\r\n     <use style=\"fill:#ff7f0e;stroke:#ff7f0e;\" x=\"183.337802\" xlink:href=\"#m2556c0a63e\" y=\"164.614105\"/>\r\n     <use style=\"fill:#ff7f0e;stroke:#ff7f0e;\" x=\"190.891565\" xlink:href=\"#m2556c0a63e\" y=\"165.209509\"/>\r\n     <use style=\"fill:#ff7f0e;stroke:#ff7f0e;\" x=\"198.499131\" xlink:href=\"#m2556c0a63e\" y=\"165.312256\"/>\r\n     <use style=\"fill:#ff7f0e;stroke:#ff7f0e;\" x=\"206.084488\" xlink:href=\"#m2556c0a63e\" y=\"164.92132\"/>\r\n     <use style=\"fill:#ff7f0e;stroke:#ff7f0e;\" x=\"213.571845\" xlink:href=\"#m2556c0a63e\" y=\"164.040606\"/>\r\n     <use style=\"fill:#ff7f0e;stroke:#ff7f0e;\" x=\"220.886391\" xlink:href=\"#m2556c0a63e\" y=\"162.678914\"/>\r\n     <use style=\"fill:#ff7f0e;stroke:#ff7f0e;\" x=\"227.955042\" xlink:href=\"#m2556c0a63e\" y=\"160.849849\"/>\r\n     <use style=\"fill:#ff7f0e;stroke:#ff7f0e;\" x=\"234.707169\" xlink:href=\"#m2556c0a63e\" y=\"158.571688\"/>\r\n     <use style=\"fill:#ff7f0e;stroke:#ff7f0e;\" x=\"241.075309\" xlink:href=\"#m2556c0a63e\" y=\"155.867192\"/>\r\n     <use style=\"fill:#ff7f0e;stroke:#ff7f0e;\" x=\"246.995832\" xlink:href=\"#m2556c0a63e\" y=\"152.763385\"/>\r\n     <use style=\"fill:#ff7f0e;stroke:#ff7f0e;\" x=\"252.409583\" xlink:href=\"#m2556c0a63e\" y=\"149.291278\"/>\r\n     <use style=\"fill:#ff7f0e;stroke:#ff7f0e;\" x=\"257.26247\" xlink:href=\"#m2556c0a63e\" y=\"145.485564\"/>\r\n     <use style=\"fill:#ff7f0e;stroke:#ff7f0e;\" x=\"261.506003\" xlink:href=\"#m2556c0a63e\" y=\"141.384267\"/>\r\n     <use style=\"fill:#ff7f0e;stroke:#ff7f0e;\" x=\"265.097783\" xlink:href=\"#m2556c0a63e\" y=\"137.028368\"/>\r\n     <use style=\"fill:#ff7f0e;stroke:#ff7f0e;\" x=\"268.001922\" xlink:href=\"#m2556c0a63e\" y=\"132.461387\"/>\r\n     <use style=\"fill:#ff7f0e;stroke:#ff7f0e;\" x=\"270.189403\" xlink:href=\"#m2556c0a63e\" y=\"127.728958\"/>\r\n     <use style=\"fill:#ff7f0e;stroke:#ff7f0e;\" x=\"271.638369\" xlink:href=\"#m2556c0a63e\" y=\"122.878365\"/>\r\n     <use style=\"fill:#ff7f0e;stroke:#ff7f0e;\" x=\"272.334343\" xlink:href=\"#m2556c0a63e\" y=\"117.958074\"/>\r\n    </g>\r\n   </g>\r\n   <g id=\"matplotlib.axis_1\">\r\n    <g id=\"xtick_1\">\r\n     <g id=\"line2d_1\">\r\n      <defs>\r\n       <path d=\"M 0 0 \r\nL 0 3.5 \r\n\" id=\"ma313596e51\" style=\"stroke:#000000;stroke-width:0.8;\"/>\r\n      </defs>\r\n      <g>\r\n       <use style=\"stroke:#000000;stroke-width:0.8;\" x=\"74.478229\" xlink:href=\"#ma313596e51\" y=\"224.64\"/>\r\n      </g>\r\n     </g>\r\n     <g id=\"text_1\">\r\n      <!-- −4 -->\r\n      <g transform=\"translate(67.107135 239.238437)scale(0.1 -0.1)\">\r\n       <defs>\r\n        <path d=\"M 10.59375 35.5 \r\nL 73.1875 35.5 \r\nL 73.1875 27.203125 \r\nL 10.59375 27.203125 \r\nz\r\n\" id=\"DejaVuSans-8722\"/>\r\n        <path d=\"M 37.796875 64.3125 \r\nL 12.890625 25.390625 \r\nL 37.796875 25.390625 \r\nz\r\nM 35.203125 72.90625 \r\nL 47.609375 72.90625 \r\nL 47.609375 25.390625 \r\nL 58.015625 25.390625 \r\nL 58.015625 17.1875 \r\nL 47.609375 17.1875 \r\nL 47.609375 0 \r\nL 37.796875 0 \r\nL 37.796875 17.1875 \r\nL 4.890625 17.1875 \r\nL 4.890625 26.703125 \r\nz\r\n\" id=\"DejaVuSans-52\"/>\r\n       </defs>\r\n       <use xlink:href=\"#DejaVuSans-8722\"/>\r\n       <use x=\"83.789062\" xlink:href=\"#DejaVuSans-52\"/>\r\n      </g>\r\n     </g>\r\n    </g>\r\n    <g id=\"xtick_2\">\r\n     <g id=\"line2d_2\">\r\n      <g>\r\n       <use style=\"stroke:#000000;stroke-width:0.8;\" x=\"135.37729\" xlink:href=\"#ma313596e51\" y=\"224.64\"/>\r\n      </g>\r\n     </g>\r\n     <g id=\"text_2\">\r\n      <!-- −2 -->\r\n      <g transform=\"translate(128.006197 239.238437)scale(0.1 -0.1)\">\r\n       <defs>\r\n        <path d=\"M 19.1875 8.296875 \r\nL 53.609375 8.296875 \r\nL 53.609375 0 \r\nL 7.328125 0 \r\nL 7.328125 8.296875 \r\nQ 12.9375 14.109375 22.625 23.890625 \r\nQ 32.328125 33.6875 34.8125 36.53125 \r\nQ 39.546875 41.84375 41.421875 45.53125 \r\nQ 43.3125 49.21875 43.3125 52.78125 \r\nQ 43.3125 58.59375 39.234375 62.25 \r\nQ 35.15625 65.921875 28.609375 65.921875 \r\nQ 23.96875 65.921875 18.8125 64.3125 \r\nQ 13.671875 62.703125 7.8125 59.421875 \r\nL 7.8125 69.390625 \r\nQ 13.765625 71.78125 18.9375 73 \r\nQ 24.125 74.21875 28.421875 74.21875 \r\nQ 39.75 74.21875 46.484375 68.546875 \r\nQ 53.21875 62.890625 53.21875 53.421875 \r\nQ 53.21875 48.921875 51.53125 44.890625 \r\nQ 49.859375 40.875 45.40625 35.40625 \r\nQ 44.1875 33.984375 37.640625 27.21875 \r\nQ 31.109375 20.453125 19.1875 8.296875 \r\nz\r\n\" id=\"DejaVuSans-50\"/>\r\n       </defs>\r\n       <use xlink:href=\"#DejaVuSans-8722\"/>\r\n       <use x=\"83.789062\" xlink:href=\"#DejaVuSans-50\"/>\r\n      </g>\r\n     </g>\r\n    </g>\r\n    <g id=\"xtick_3\">\r\n     <g id=\"line2d_3\">\r\n      <g>\r\n       <use style=\"stroke:#000000;stroke-width:0.8;\" x=\"196.276352\" xlink:href=\"#ma313596e51\" y=\"224.64\"/>\r\n      </g>\r\n     </g>\r\n     <g id=\"text_3\">\r\n      <!-- 0 -->\r\n      <g transform=\"translate(193.095102 239.238437)scale(0.1 -0.1)\">\r\n       <defs>\r\n        <path d=\"M 31.78125 66.40625 \r\nQ 24.171875 66.40625 20.328125 58.90625 \r\nQ 16.5 51.421875 16.5 36.375 \r\nQ 16.5 21.390625 20.328125 13.890625 \r\nQ 24.171875 6.390625 31.78125 6.390625 \r\nQ 39.453125 6.390625 43.28125 13.890625 \r\nQ 47.125 21.390625 47.125 36.375 \r\nQ 47.125 51.421875 43.28125 58.90625 \r\nQ 39.453125 66.40625 31.78125 66.40625 \r\nz\r\nM 31.78125 74.21875 \r\nQ 44.046875 74.21875 50.515625 64.515625 \r\nQ 56.984375 54.828125 56.984375 36.375 \r\nQ 56.984375 17.96875 50.515625 8.265625 \r\nQ 44.046875 -1.421875 31.78125 -1.421875 \r\nQ 19.53125 -1.421875 13.0625 8.265625 \r\nQ 6.59375 17.96875 6.59375 36.375 \r\nQ 6.59375 54.828125 13.0625 64.515625 \r\nQ 19.53125 74.21875 31.78125 74.21875 \r\nz\r\n\" id=\"DejaVuSans-48\"/>\r\n       </defs>\r\n       <use xlink:href=\"#DejaVuSans-48\"/>\r\n      </g>\r\n     </g>\r\n    </g>\r\n    <g id=\"xtick_4\">\r\n     <g id=\"line2d_4\">\r\n      <g>\r\n       <use style=\"stroke:#000000;stroke-width:0.8;\" x=\"257.175413\" xlink:href=\"#ma313596e51\" y=\"224.64\"/>\r\n      </g>\r\n     </g>\r\n     <g id=\"text_4\">\r\n      <!-- 2 -->\r\n      <g transform=\"translate(253.994163 239.238437)scale(0.1 -0.1)\">\r\n       <use xlink:href=\"#DejaVuSans-50\"/>\r\n      </g>\r\n     </g>\r\n    </g>\r\n    <g id=\"xtick_5\">\r\n     <g id=\"line2d_5\">\r\n      <g>\r\n       <use style=\"stroke:#000000;stroke-width:0.8;\" x=\"318.074475\" xlink:href=\"#ma313596e51\" y=\"224.64\"/>\r\n      </g>\r\n     </g>\r\n     <g id=\"text_5\">\r\n      <!-- 4 -->\r\n      <g transform=\"translate(314.893225 239.238437)scale(0.1 -0.1)\">\r\n       <use xlink:href=\"#DejaVuSans-52\"/>\r\n      </g>\r\n     </g>\r\n    </g>\r\n   </g>\r\n   <g id=\"matplotlib.axis_2\">\r\n    <g id=\"ytick_1\">\r\n     <g id=\"line2d_6\">\r\n      <defs>\r\n       <path d=\"M 0 0 \r\nL -3.5 0 \r\n\" id=\"m45c05ec178\" style=\"stroke:#000000;stroke-width:0.8;\"/>\r\n      </defs>\r\n      <g>\r\n       <use style=\"stroke:#000000;stroke-width:0.8;\" x=\"28.942188\" xlink:href=\"#m45c05ec178\" y=\"194.991704\"/>\r\n      </g>\r\n     </g>\r\n     <g id=\"text_6\">\r\n      <!-- −4 -->\r\n      <g transform=\"translate(7.2 198.790922)scale(0.1 -0.1)\">\r\n       <use xlink:href=\"#DejaVuSans-8722\"/>\r\n       <use x=\"83.789062\" xlink:href=\"#DejaVuSans-52\"/>\r\n      </g>\r\n     </g>\r\n    </g>\r\n    <g id=\"ytick_2\">\r\n     <g id=\"line2d_7\">\r\n      <g>\r\n       <use style=\"stroke:#000000;stroke-width:0.8;\" x=\"28.942188\" xlink:href=\"#m45c05ec178\" y=\"155.44721\"/>\r\n      </g>\r\n     </g>\r\n     <g id=\"text_7\">\r\n      <!-- −2 -->\r\n      <g transform=\"translate(7.2 159.246429)scale(0.1 -0.1)\">\r\n       <use xlink:href=\"#DejaVuSans-8722\"/>\r\n       <use x=\"83.789062\" xlink:href=\"#DejaVuSans-50\"/>\r\n      </g>\r\n     </g>\r\n    </g>\r\n    <g id=\"ytick_3\">\r\n     <g id=\"line2d_8\">\r\n      <g>\r\n       <use style=\"stroke:#000000;stroke-width:0.8;\" x=\"28.942188\" xlink:href=\"#m45c05ec178\" y=\"115.902716\"/>\r\n      </g>\r\n     </g>\r\n     <g id=\"text_8\">\r\n      <!-- 0 -->\r\n      <g transform=\"translate(15.579688 119.701935)scale(0.1 -0.1)\">\r\n       <use xlink:href=\"#DejaVuSans-48\"/>\r\n      </g>\r\n     </g>\r\n    </g>\r\n    <g id=\"ytick_4\">\r\n     <g id=\"line2d_9\">\r\n      <g>\r\n       <use style=\"stroke:#000000;stroke-width:0.8;\" x=\"28.942188\" xlink:href=\"#m45c05ec178\" y=\"76.358223\"/>\r\n      </g>\r\n     </g>\r\n     <g id=\"text_9\">\r\n      <!-- 2 -->\r\n      <g transform=\"translate(15.579688 80.157441)scale(0.1 -0.1)\">\r\n       <use xlink:href=\"#DejaVuSans-50\"/>\r\n      </g>\r\n     </g>\r\n    </g>\r\n    <g id=\"ytick_5\">\r\n     <g id=\"line2d_10\">\r\n      <g>\r\n       <use style=\"stroke:#000000;stroke-width:0.8;\" x=\"28.942188\" xlink:href=\"#m45c05ec178\" y=\"36.813729\"/>\r\n      </g>\r\n     </g>\r\n     <g id=\"text_10\">\r\n      <!-- 4 -->\r\n      <g transform=\"translate(15.579688 40.612948)scale(0.1 -0.1)\">\r\n       <use xlink:href=\"#DejaVuSans-52\"/>\r\n      </g>\r\n     </g>\r\n    </g>\r\n   </g>\r\n   <g id=\"line2d_11\">\r\n    <path clip-path=\"url(#p21f757bd7a)\" d=\"M 135.37729 76.358223 \r\n\" style=\"fill:none;stroke:#1f77b4;stroke-linecap:square;stroke-width:1.5;\"/>\r\n   </g>\r\n   <g id=\"patch_3\">\r\n    <path d=\"M 28.942188 224.64 \r\nL 28.942188 7.2 \r\n\" style=\"fill:none;stroke:#000000;stroke-linecap:square;stroke-linejoin:miter;stroke-width:0.8;\"/>\r\n   </g>\r\n   <g id=\"patch_4\">\r\n    <path d=\"M 363.742188 224.64 \r\nL 363.742188 7.2 \r\n\" style=\"fill:none;stroke:#000000;stroke-linecap:square;stroke-linejoin:miter;stroke-width:0.8;\"/>\r\n   </g>\r\n   <g id=\"patch_5\">\r\n    <path d=\"M 28.942187 224.64 \r\nL 363.742188 224.64 \r\n\" style=\"fill:none;stroke:#000000;stroke-linecap:square;stroke-linejoin:miter;stroke-width:0.8;\"/>\r\n   </g>\r\n   <g id=\"patch_6\">\r\n    <path d=\"M 28.942187 7.2 \r\nL 363.742188 7.2 \r\n\" style=\"fill:none;stroke:#000000;stroke-linecap:square;stroke-linejoin:miter;stroke-width:0.8;\"/>\r\n   </g>\r\n  </g>\r\n </g>\r\n <defs>\r\n  <clipPath id=\"p21f757bd7a\">\r\n   <rect height=\"217.44\" width=\"334.8\" x=\"28.942188\" y=\"7.2\"/>\r\n  </clipPath>\r\n </defs>\r\n</svg>\r\n",
      "image/png": "[encoded data removed]"
     },
     "metadata": {
      "needs_background": "light"
     }
    }
   ],
   "source": [
    "import matplotlib.pyplot as plt\n",
    "import numpy as np\n",
    "%matplotlib inline\n",
    "\n",
    "r = 5\n",
    "face_x = [r*np.cos(t) for t in np.arange(0, 2*np.pi, 0.1)]\n",
    "face_y = [r*np.sin(t) for t in np.arange(0, 2*np.pi, 0.1)]\n",
    "\n",
    "smile_x = [r/2*np.cos(t) for t in np.arange(np.pi, 2*np.pi, 0.1)]\n",
    "smile_y = [r/2*np.sin(t) for t in np.arange(np.pi, 2*np.pi, 0.1)]\n",
    "\n",
    "\n",
    "plt.scatter(face_x, face_y)\n",
    "plt.scatter(smile_x, smile_y)\n",
    "plt.plot(-2,2)\n",
    "\n",
    "# TODO - Define points for the eyes\n",
    "# TODO - Plot the eyes to finish the smiley face\n",
    "# TODO (Ext) - Define and plot points for hair"
   ]
  },
  {
   "cell_type": "code",
   "execution_count": 3,
   "metadata": {},
   "outputs": [
    {
     "output_type": "stream",
     "name": "stdout",
     "text": [
      "Requirement already satisfied: matplotlib in c:\\users\\ollie\\appdata\\local\\programs\\python\\python38-32\\lib\\site-packages (3.3.3)\n",
      "Requirement already satisfied: numpy>=1.15 in c:\\users\\ollie\\appdata\\local\\programs\\python\\python38-32\\lib\\site-packages (from matplotlib) (1.19.4)\n",
      "Requirement already satisfied: python-dateutil>=2.1 in c:\\users\\ollie\\appdata\\local\\programs\\python\\python38-32\\lib\\site-packages (from matplotlib) (2.8.1)\n",
      "Requirement already satisfied: kiwisolver>=1.0.1 in c:\\users\\ollie\\appdata\\local\\programs\\python\\python38-32\\lib\\site-packages (from matplotlib) (1.3.1)\n",
      "Requirement already satisfied: cycler>=0.10 in c:\\users\\ollie\\appdata\\local\\programs\\python\\python38-32\\lib\\site-packages (from matplotlib) (0.10.0)\n",
      "Requirement already satisfied: pyparsing!=2.0.4,!=2.1.2,!=2.1.6,>=2.0.3 in c:\\users\\ollie\\appdata\\local\\programs\\python\\python38-32\\lib\\site-packages (from matplotlib) (2.4.7)\n",
      "Requirement already satisfied: pillow>=6.2.0 in c:\\users\\ollie\\appdata\\local\\programs\\python\\python38-32\\lib\\site-packages (from matplotlib) (7.2.0)\n",
      "Requirement already satisfied: six in c:\\users\\ollie\\appdata\\roaming\\python\\python38\\site-packages (from cycler>=0.10->matplotlib) (1.15.0)\n",
      "Requirement already satisfied: numpy in c:\\users\\ollie\\appdata\\local\\programs\\python\\python38-32\\lib\\site-packages (1.19.4)\n"
     ]
    }
   ],
   "source": [
    "# If the code above doesn't work, you might need to install some extra modules\n",
    "# Notice that again we're using the '!' to run a Bash command\n",
    "\n",
    "!pip install matplotlib\n",
    "!pip install numpy"
   ]
  },
  {
   "cell_type": "markdown",
   "metadata": {},
   "source": [
    "## Congratulations! You have finished the tutorial and are now ready to kick ass.\n",
    "## Take a few minutes to relax and celebrate your achievement."
   ]
  }
 ],
 "metadata": {
  "kernelspec": {
   "display_name": "Python 3",
   "language": "python",
   "name": "python3"
  },
  "language_info": {
   "codemirror_mode": {
    "name": "ipython",
    "version": 3
   },
   "file_extension": ".py",
   "mimetype": "text/x-python",
   "name": "python",
   "nbconvert_exporter": "python",
   "pygments_lexer": "ipython3",
   "version": "3.8.5-final"
  }
 },
 "nbformat": 4,
 "nbformat_minor": 4
}