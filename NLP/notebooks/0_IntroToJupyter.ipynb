{
 "cells": [
  {
   "cell_type": "markdown",
   "metadata": {},
   "source": [
    "# Welcome to notebook 0"
   ]
  },
  {
   "cell_type": "markdown",
   "metadata": {},
   "source": [
    "#### Hello, I am a cell! Press Shift+Enter to run me :)"
   ]
  },
  {
   "cell_type": "code",
   "execution_count": null,
   "metadata": {},
   "outputs": [],
   "source": [
    "print('Hello World')"
   ]
  },
  {
   "cell_type": "code",
   "execution_count": null,
   "metadata": {},
   "outputs": [],
   "source": [
    "# Challenge 1 - Print your name and how you're feeling"
   ]
  },
  {
   "cell_type": "code",
   "execution_count": null,
   "metadata": {},
   "outputs": [],
   "source": [
    "# TODO"
   ]
  },
  {
   "cell_type": "markdown",
   "metadata": {},
   "source": [
    "#### Notice that the output appeared below the cell. We can also display variables this way"
   ]
  },
  {
   "cell_type": "code",
   "execution_count": null,
   "metadata": {},
   "outputs": [],
   "source": [
    "string = 'Hello World'\n",
    "string"
   ]
  },
  {
   "cell_type": "markdown",
   "metadata": {},
   "source": [
    "#### Variables in Jupyter notebooks are global. They can be accessed in any cell"
   ]
  },
  {
   "cell_type": "code",
   "execution_count": null,
   "metadata": {},
   "outputs": [],
   "source": [
    "# `string` is not defined in this cell, but in the cell above\n",
    "\n",
    "string"
   ]
  },
  {
   "cell_type": "code",
   "execution_count": null,
   "metadata": {},
   "outputs": [],
   "source": [
    "# Challenge 2 - Try to display a variable that doesn't exist yet\n",
    "#             - What happens?"
   ]
  },
  {
   "cell_type": "code",
   "execution_count": null,
   "metadata": {},
   "outputs": [],
   "source": [
    "# TODO"
   ]
  },
  {
   "cell_type": "markdown",
   "metadata": {},
   "source": [
    "#### When a cell is running, a star will appear in the box to the left\n",
    "\n",
    "#### When it finishes, the star will be replaced by a number which tracks the order in which your ran the cells\n",
    "\n",
    "#### If the star is not disappearing, your notebook has probably crashed. If this happens go to the bar at the top of the notebook, click the tab called Kernel and then press Restart  "
   ]
  },
  {
   "cell_type": "code",
   "execution_count": null,
   "metadata": {},
   "outputs": [],
   "source": [
    "# Challenge 3 - Try to make this cell run for a long time by changing `limit`\n",
    "#             - Reset your notebook after this happens"
   ]
  },
  {
   "cell_type": "code",
   "execution_count": null,
   "metadata": {},
   "outputs": [],
   "source": [
    "i = 0\n",
    "limit = # TODO\n",
    "for _ in range(limit):\n",
    "    i += 1"
   ]
  },
  {
   "cell_type": "markdown",
   "metadata": {},
   "source": [
    "#### There are two main types of cell, \"code\" and \"markdown\". \n",
    "\n",
    "#### Markdown cells are primarily used for annotating code and adding structure to a notebook. \n",
    "\n",
    "\n",
    "#### You can swap between these two types of cell by clicking the tab to the left of the keyboard."
   ]
  },
  {
   "cell_type": "code",
   "execution_count": null,
   "metadata": {},
   "outputs": [],
   "source": [
    "# Challenge 4\n",
    "\n",
    "* I am a cell of the wrong type :(\n",
    "* Please convert me to \"markdown\" to reveal my majestic formula\n",
    "* $x = \\frac{-b \\pm \\sqrt{b^{2} - 4ac}}{2a}$"
   ]
  },
  {
   "cell_type": "markdown",
   "metadata": {},
   "source": [
    "#### You can use Bash in the notebook if you add an '!' before your command"
   ]
  },
  {
   "cell_type": "code",
   "execution_count": null,
   "metadata": {},
   "outputs": [],
   "source": [
    "!echo Hello World"
   ]
  },
  {
   "cell_type": "markdown",
   "metadata": {},
   "source": [
    "#### If a graph is plotted, it will be displayed below the cell\n",
    "#### By adding `%matplotlib inline`, we don't even need to call `plt.show()`"
   ]
  },
  {
   "cell_type": "code",
   "execution_count": null,
   "metadata": {},
   "outputs": [],
   "source": [
    "# Challenge 5 - I've tried to plot a smiley face, but I've forgotten about the eyes\n",
    "#             - Help save the day by letting poor smiley see again\n",
    "#             - Ext: Make your smiley beautiful by adorning them with hair"
   ]
  },
  {
   "cell_type": "code",
   "execution_count": 2,
   "metadata": {},
   "outputs": [
    {
     "data": {
      "text/plain": [
       "<matplotlib.collections.PathCollection at 0x7ff07f976940>"
      ]
     },
     "execution_count": 2,
     "metadata": {},
     "output_type": "execute_result"
    },
    {
     "data": {
      "image/png": "[encoded data removed]",
      "text/plain": [
       "<Figure size 432x288 with 1 Axes>"
      ]
     },
     "metadata": {
      "needs_background": "light"
     },
     "output_type": "display_data"
    }
   ],
   "source": [
    "import matplotlib.pyplot as plt\n",
    "import numpy as np\n",
    "%matplotlib inline\n",
    "\n",
    "r = 5\n",
    "face_x = [r*np.cos(t) for t in np.arange(0, 2*np.pi, 0.1)]\n",
    "face_y = [r*np.sin(t) for t in np.arange(0, 2*np.pi, 0.1)]\n",
    "\n",
    "smile_x = [r/2*np.cos(t) for t in np.arange(np.pi, 2*np.pi, 0.1)]\n",
    "smile_y = [r/2*np.sin(t) for t in np.arange(np.pi, 2*np.pi, 0.1)]\n",
    "\n",
    "plt.scatter(face_x, face_y)\n",
    "plt.scatter(smile_x, smile_y)\n",
    "\n",
    "# TODO - Define points for the eyes\n",
    "# TODO - Plot the eyes to finish the smiley face\n",
    "# TODO (Ext) - Define and plot points for hair"
   ]
  },
  {
   "cell_type": "code",
   "execution_count": null,
   "metadata": {},
   "outputs": [],
   "source": [
    "# If the code above doesn't work, you might need to install some extra modules\n",
    "# Notice that again we're using the '!' to run a Bash command\n",
    "\n",
    "!pip install matplotlib\n",
    "!pip install numpy"
   ]
  },
  {
   "cell_type": "markdown",
   "metadata": {},
   "source": [
    "## Congratulations! You have finished the tutorial and are now ready to kick ass.\n",
    "## Take a few minutes to relax and celebrate your achievement."
   ]
  },
  {
   "cell_type": "code",
   "execution_count": null,
   "metadata": {},
   "outputs": [],
   "source": []
  }
 ],
 "metadata": {
  "kernelspec": {
   "display_name": "Python 3",
   "language": "python",
   "name": "python3"
  },
  "language_info": {
   "codemirror_mode": {
    "name": "ipython",
    "version": 3
   },
   "file_extension": ".py",
   "mimetype": "text/x-python",
   "name": "python",
   "nbconvert_exporter": "python",
   "pygments_lexer": "ipython3",
   "version": "3.7.0"
  }
 },
 "nbformat": 4,
 "nbformat_minor": 4
}
