{
 "cells": [
  {
   "cell_type": "markdown",
   "metadata": {},
   "source": [
    "# Hello there, welcome to notebook 3!\n",
    "\n",
    "We are going to be looking at:\n",
    "* Representing sentences using the bag-of-words model\n",
    "* Measuring the 'distance' between sentences using the Jaccard distance\n",
    "* Embedding points using UMAP\n",
    "\n",
    "It is recommended that you complete all exercises that are not marked as optional.\n",
    "\n",
    "Feel free to be creative and write your own code wherever you want!\n",
    "\n",
    "The provided functions are only there to help you if you get stuck :)"
   ]
  },
  {
   "cell_type": "markdown",
   "metadata": {},
   "source": [
    "## Imports"
   ]
  },
  {
   "cell_type": "code",
   "execution_count": 5,
   "metadata": {},
   "outputs": [],
   "source": [
    "from sklearn.feature_extraction.text import CountVectorizer\n",
    "import umap\n",
    "import numpy as np\n",
    "import plotly.express as px\n",
    "import pandas as pd\n",
    "import warnings\n",
    "import random\n",
    "#warnings.filterwarnings('ignore')"
   ]
  },
  {
   "cell_type": "markdown",
   "metadata": {},
   "source": [
    "## Lesson 1: Sentences\n",
    "\n",
    "Our first goal is to create a sentence.\n",
    "\n",
    "One way to do this is to select random words from a vocabulary."
   ]
  },
  {
   "cell_type": "code",
   "execution_count": 6,
   "metadata": {},
   "outputs": [
    {
     "output_type": "stream",
     "name": "stdout",
     "text": [
      "five six two six three five six two two five\n"
     ]
    }
   ],
   "source": [
    "def generate_sentence(vocab, sentence_length=10):\n",
    "    \n",
    "    # Create an array of random words from the vocab\n",
    "    sentence_array = random.choices(vocab, k=sentence_length)\n",
    "    \n",
    "    # Join the words together with a space inbetween\n",
    "    sentence = ' '.join(sentence_array)\n",
    "    \n",
    "    return sentence\n",
    "\n",
    "numbers = ['one', 'two', 'three', 'four', 'five', 'six']\n",
    "numbers_sentence = generate_sentence(numbers)\n",
    "print(numbers_sentence)"
   ]
  },
  {
   "cell_type": "markdown",
   "metadata": {},
   "source": [
    "### Exercise 1: Creating your own sentence"
   ]
  },
  {
   "cell_type": "code",
   "execution_count": 7,
   "metadata": {},
   "outputs": [
    {
     "output_type": "stream",
     "name": "stdout",
     "text": [
      "banana apple hello hello test test apple banana hello apple\n"
     ]
    }
   ],
   "source": [
    "my_vocab = [\"test\", \"hello\",\"apple\",\"banana\"]\n",
    "my_sentence = generate_sentence(my_vocab)\n",
    "print(my_sentence)"
   ]
  },
  {
   "cell_type": "markdown",
   "metadata": {},
   "source": [
    "## Lesson 2: Multiple sentences\n",
    "\n",
    "Our next goal is to generate multiple sentences.\n",
    "\n",
    "One way to do this is to select a random vocabulary and then generate a sentence like in Lesson 1."
   ]
  },
  {
   "cell_type": "code",
   "execution_count": 9,
   "metadata": {},
   "outputs": [],
   "source": [
    "numbers = ['one', 'two', 'three', 'four']\n",
    "colours = ['blue', 'yellow', 'red', 'green']\n",
    "animals = ['cow', 'sheep', 'pig', 'horse']\n",
    "\n",
    "vocabularies = [numbers, colours, animals]"
   ]
  },
  {
   "cell_type": "code",
   "execution_count": 19,
   "metadata": {},
   "outputs": [
    {
     "output_type": "stream",
     "name": "stdout",
     "text": [
      "2: Wales England Wales England England\n0: apple banana pear pear pear\n2: Wales Wales England Wales England\n2: Scotland Wales Wales Scotland England\n0: apple pear pear banana apple\n1: sheep sheep pig sheep pig\n0: pear banana banana apple banana\n0: pear banana pear pear apple\n0: banana banana banana apple banana\n1: pig pig pig pig pig\n2: England Wales Scotland Wales Scotland\n1: pig cow sheep cow cow\n2: Wales England Scotland Scotland Wales\n1: sheep pig cow sheep pig\n0: apple pear apple pear apple\n1: pig cow cow sheep pig\n1: pig sheep pig pig pig\n2: England Scotland Scotland England England\n1: sheep pig pig pig cow\n1: cow pig cow pig sheep\n"
     ]
    }
   ],
   "source": [
    "def generate_sentences_and_labels(vocabularies, n_sentences=20, sentence_length=5):\n",
    "    sentences = []\n",
    "    labels = []\n",
    "    for _ in range(n_sentences):\n",
    "        # Randomly select the vocab\n",
    "        vocab_idx = random.randint(0, len(vocabularies)-1)\n",
    "        vocab = vocabularies[vocab_idx]\n",
    "        \n",
    "        # Generate a sentence from that vocab\n",
    "        sentence = generate_sentence(vocab, sentence_length)\n",
    "        \n",
    "        sentences.append(sentence)\n",
    "        labels.append(str(vocab_idx))\n",
    "        \n",
    "    return sentences, labels\n",
    "\n",
    "sentences, labels = generate_sentences_and_labels(vocabularies)\n",
    "for i in range(len(sentences)):\n",
    "    print(f'{labels[i]}: {sentences[i]}')"
   ]
  },
  {
   "cell_type": "markdown",
   "metadata": {},
   "source": [
    "### Exercise 2: Creating multiple sentences"
   ]
  },
  {
   "cell_type": "code",
   "execution_count": 11,
   "metadata": {},
   "outputs": [
    {
     "output_type": "stream",
     "name": "stdout",
     "text": [
      "2: Wales England Scotland Wales Scotland\n0: apple apple banana pear apple\n2: England Scotland England England England\n1: pig sheep cow cow pig\n2: Scotland Scotland Wales Scotland Scotland\n2: Scotland England Scotland Scotland England\n2: Scotland Scotland Wales Wales England\n2: Scotland England Scotland England Scotland\n0: pear apple apple apple pear\n2: Scotland Scotland England Scotland Scotland\n1: sheep sheep pig pig pig\n0: apple banana apple apple apple\n1: sheep sheep pig sheep cow\n1: pig pig sheep sheep pig\n2: Scotland Scotland Scotland England England\n2: Wales England Scotland Wales England\n2: England Scotland Wales England Scotland\n1: cow sheep sheep cow cow\n0: apple banana banana pear pear\n0: pear pear banana apple banana\n"
     ]
    }
   ],
   "source": [
    "vocabularies = [[\"banana\",\"apple\",\"pear\"],[\"pig\", \"sheep\", \"cow\"],[\"England\",\"Scotland\",\"Wales\"]]\n",
    "sentences, labels = generate_sentences_and_labels(vocabularies)\n",
    "for i in range(len(sentences)):\n",
    "    print(f'{labels[i]}: {sentences[i]}')\n",
    "    "
   ]
  },
  {
   "cell_type": "markdown",
   "metadata": {},
   "source": [
    "## Lesson 3: Bag-of-words (BoW)\n",
    "\n",
    "Our next goal is to represent sentences using the bag-of-words model.\n",
    "\n",
    "The bag-of-words model is the representation of a sentence as the counts of its words.\n",
    "\n",
    "I.e. The sentence 'one plus one makes two' can be represented as [('one', 2), ('plus', 1), ('makes', 1), ('two', 1)]\n",
    "\n",
    "It could also be represented as [2, 1, 1, 1] with vocab ['one', 'plus', 'makes', 'two']\n",
    "\n",
    "In the model the order of the words is completely ignored.\n",
    "\n",
    "This means that the sentences 'alice likes bob' and 'bob likes alice' have the same representation!\n",
    "\n",
    "We are lazy so we are going import an existing bag-of-words model called CountVectorizer."
   ]
  },
  {
   "cell_type": "code",
   "execution_count": 16,
   "metadata": {},
   "outputs": [
    {
     "output_type": "stream",
     "name": "stdout",
     "text": [
      "['Wales England Scotland Wales Scotland', 'apple apple banana pear apple', 'England Scotland England England England', 'pig sheep cow cow pig', 'Scotland Scotland Wales Scotland Scotland', 'Scotland England Scotland Scotland England', 'Scotland Scotland Wales Wales England', 'Scotland England Scotland England Scotland', 'pear apple apple apple pear', 'Scotland Scotland England Scotland Scotland', 'sheep sheep pig pig pig', 'apple banana apple apple apple', 'sheep sheep pig sheep cow', 'pig pig sheep sheep pig', 'Scotland Scotland Scotland England England', 'Wales England Scotland Wales England', 'England Scotland Wales England Scotland', 'cow sheep sheep cow cow', 'apple banana banana pear pear', 'pear pear banana apple banana']\n[[0 0 0 1 0 0 2 0 2]\n [3 1 0 0 1 0 0 0 0]\n [0 0 0 4 0 0 1 0 0]\n [0 0 2 0 0 2 0 1 0]\n [0 0 0 0 0 0 4 0 1]\n [0 0 0 2 0 0 3 0 0]\n [0 0 0 1 0 0 2 0 2]\n [0 0 0 2 0 0 3 0 0]\n [3 0 0 0 2 0 0 0 0]\n [0 0 0 1 0 0 4 0 0]\n [0 0 0 0 0 3 0 2 0]\n [4 1 0 0 0 0 0 0 0]\n [0 0 1 0 0 1 0 3 0]\n [0 0 0 0 0 3 0 2 0]\n [0 0 0 2 0 0 3 0 0]\n [0 0 0 2 0 0 1 0 2]\n [0 0 0 2 0 0 2 0 1]\n [0 0 3 0 0 0 0 2 0]\n [1 2 0 0 2 0 0 0 0]\n [1 2 0 0 2 0 0 0 0]] ['apple', 'banana', 'cow', 'england', 'pear', 'pig', 'scotland', 'sheep', 'wales']\n[('apple', 0), ('banana', 0), ('cow', 0), ('england', 1), ('pear', 0), ('pig', 0), ('scotland', 2), ('sheep', 0), ('wales', 2)]\nWales England Scotland Wales Scotland\n"
     ]
    }
   ],
   "source": [
    "def get_bow_and_vocab(sentences):\n",
    "    cv = CountVectorizer()\n",
    "    print(sentences)\n",
    "    bow = cv.fit_transform(sentences).toarray()\n",
    "    vocab = cv.get_feature_names()\n",
    "    print(bow,vocab)\n",
    "    return bow, vocab\n",
    "bow, vocab = get_bow_and_vocab(sentences)\n",
    "print(list(zip(vocab, bow[0])))\n",
    "print(sentences[0])"
   ]
  },
  {
   "cell_type": "markdown",
   "metadata": {},
   "source": [
    "### Exercise 3: Writing a bag-of-words model (Optional)"
   ]
  },
  {
   "cell_type": "code",
   "execution_count": 14,
   "metadata": {},
   "outputs": [],
   "source": [
    "def bag_of_words_model(sentences):\n",
    "    freq = {}\n",
    "    for item in sentences:\n",
    "        for word in item:\n",
    "            if word not in freq.keys():\n",
    "                freq[word] = 1\n",
    "            else:\n",
    "                freq[word] += 1\n",
    "    bow = freq\n",
    "    vocab = list(freq.keys())\n",
    "    return bow, vocab"
   ]
  },
  {
   "cell_type": "code",
   "execution_count": 15,
   "metadata": {},
   "outputs": [
    {
     "output_type": "stream",
     "name": "stdout",
     "text": [
      "[[1 1 0]\n [0 1 1]] ['chicken', 'cow', 'sheep']\n[[1 1 0]\n [0 1 1]] {'c': 4, 'h': 2, 'i': 1, 'k': 1, 'e': 3, 'n': 1, ' ': 2, 'o': 2, 'w': 2, 's': 1, 'p': 1}\n\n\n['chicken', 'cow', 'sheep'] ['c', 'h', 'i', 'k', 'e', 'n', ' ', 'o', 'w', 's', 'p']\n"
     ]
    }
   ],
   "source": [
    "\n",
    "trial_sentences = ['chicken cow', 'cow sheep']\n",
    "bow, vocab = get_bow_and_vocab(trial_sentences)  # The output from CountVectorizer\n",
    "your_bow, your_vocab = bag_of_words_model(trial_sentences) # Your output\n",
    "\n",
    "print(bow, your_bow)\n",
    "print(\"\\n\")\n",
    "print(vocab, your_vocab)"
   ]
  },
  {
   "cell_type": "markdown",
   "metadata": {},
   "source": [
    "## Lesson 4: Jaccard distance\n",
    "\n",
    "Our next goal is to measure the distances between sentences which have been represented using the bag-of-words model.\n",
    "\n",
    "The first step is to convert our representations to sets.\n",
    "Given a representation $R$ we define a set $S$ as\n",
    "\n",
    "$S[i] = \\begin{cases}\n",
    "  1, & \\text{if } R[i] > 0, \\\\\n",
    "  0, & \\text{otherwise}.\n",
    "\\end{cases}$\n",
    "\n",
    "Now we can use the Jaccard distance,\n",
    "which given two sets $A$ and $B$ is defined as\n",
    "\n",
    "$J(A, B) = 1 - \\frac{\\lvert A \\cap B \\rvert}{\\lvert A \\cup B \\rvert}$\n",
    "\n",
    "In words, this is one minus the size of the intersection of A and B over the size of the union of A and B. If you've forgotten what these terms mean, here's a quick reminder\n",
    "\n",
    "<img src=images/set.png width=\"400\">"
   ]
  },
  {
   "cell_type": "code",
   "execution_count": 20,
   "metadata": {},
   "outputs": [
    {
     "output_type": "stream",
     "name": "stdout",
     "text": [
      "The Jaccard distance between [1, 1, 0] and [0, 1, 1] is 0.67\n"
     ]
    }
   ],
   "source": [
    "def calculate_jaccard_dist(u, v):\n",
    "    intersection = 0\n",
    "    union = 0\n",
    "    for i in range(len(u)):\n",
    "        \n",
    "        # The word is present in both vectors\n",
    "        if u[i] > 0 and v[i] > 0:\n",
    "            intersection += 1\n",
    "            \n",
    "        # The word is present in one of the vectors\n",
    "        if u[i] > 0 or v[i] > 0:\n",
    "            union += 1\n",
    "            \n",
    "    jaccard_dist = 1 - (intersection / union)\n",
    "    return jaccard_dist\n",
    "\n",
    "u = [1, 1, 0]\n",
    "v = [0, 1, 1]\n",
    "jaccard_dist = calculate_jaccard_dist(u, v)\n",
    "print(f'The Jaccard distance between {u} and {v} is {jaccard_dist:.2f}')"
   ]
  },
  {
   "cell_type": "markdown",
   "metadata": {},
   "source": [
    "### Exercise 4: Understanding the Jaccard distance"
   ]
  },
  {
   "cell_type": "code",
   "execution_count": 22,
   "metadata": {},
   "outputs": [
    {
     "output_type": "stream",
     "name": "stdout",
     "text": [
      "[[1]\n [2]] ['hi']\n[[1]\n [2]]\nThe Jaccard distance between [1] and [2] is 0.00\n"
     ]
    }
   ],
   "source": [
    "# Q4.1.1 - What is the Jaccard distance between the sentences ['hi'] and ['hi', 'hi']\n",
    "\n",
    "bow, vocab = get_bow_and_vocab([\"hi\",\"hi hi\"])\n",
    "print(bow)\n",
    "jaccard_dist = calculate_jaccard_dist(bow[0], bow[1])\n",
    "print(f'The Jaccard distance between {bow[0]} and {bow[1]} is {jaccard_dist:.2f}')\n",
    "# Q4.1.2 - Does the answer to 4.1.1 surprise you?"
   ]
  },
  {
   "cell_type": "code",
   "execution_count": 24,
   "metadata": {},
   "outputs": [
    {
     "output_type": "stream",
     "name": "stdout",
     "text": [
      "[[0 1 0 1]\n [1 1 1 1]] ['general', 'hello', 'kenobi', 'there']\n[[0 1 0 1]\n [1 1 1 1]]\nThe Jaccard distance between [0 1 0 1] and [1 1 1 1] is 0.50\n"
     ]
    }
   ],
   "source": [
    "# Q4.2 - Can you find two sentences that have a Jaccard distance of 0.5?\n",
    "bow, vocab = get_bow_and_vocab([\"hello there\",\"hello there General Kenobi\"])\n",
    "print(bow)\n",
    "jaccard_dist = calculate_jaccard_dist(bow[0], bow[1])\n",
    "print(f'The Jaccard distance between {bow[0]} and {bow[1]} is {jaccard_dist:.2f}')"
   ]
  },
  {
   "cell_type": "code",
   "execution_count": null,
   "metadata": {},
   "outputs": [],
   "source": []
  },
  {
   "cell_type": "code",
   "execution_count": 26,
   "metadata": {},
   "outputs": [],
   "source": [
    "# Q4.3.1 - What is the smallest value that the Jaccard distance can take?\n",
    "#0\n",
    "# Q4.3.2 - Can you find two sentences that have this distance?"
   ]
  },
  {
   "cell_type": "code",
   "execution_count": null,
   "metadata": {},
   "outputs": [],
   "source": []
  },
  {
   "cell_type": "code",
   "execution_count": 28,
   "metadata": {},
   "outputs": [
    {
     "output_type": "stream",
     "name": "stdout",
     "text": [
      "[[0 1 0 1]\n [1 0 1 0]] ['another', 'hello', 'sentence', 'there']\n[[0 1 0 1]\n [1 0 1 0]]\nThe Jaccard distance between [0 1 0 1] and [1 0 1 0] is 1.00\n"
     ]
    }
   ],
   "source": [
    "# Q4.4.1 - What is the largest value that the Jaccard distance can take?\n",
    "#1\n",
    "# Q4.4.2 - Can you find two sentences that have this distance?\n",
    "bow, vocab = get_bow_and_vocab([\"hello there\",\"another sentence\"])\n",
    "print(bow)\n",
    "jaccard_dist = calculate_jaccard_dist(bow[0], bow[1])\n",
    "print(f'The Jaccard distance between {bow[0]} and {bow[1]} is {jaccard_dist:.2f}')"
   ]
  },
  {
   "cell_type": "markdown",
   "metadata": {},
   "source": [
    "# Lesson 5: UMAP\n",
    "\n",
    "UMAP is a dimension-reduction technique that can be used for visualization.\n",
    "\n",
    "Given a set of vectors, it can embed them such that similar vectors lie close together.\n",
    "\n",
    "It can accept multiple metrics but we are going to use the Jaccard distance.\n",
    "\n",
    "Note: If you get an error when running `plot_sentences_and_labels` then you probably need to given it more sentences."
   ]
  },
  {
   "cell_type": "code",
   "execution_count": 22,
   "metadata": {
    "scrolled": false
   },
   "outputs": [
    {
     "output_type": "stream",
     "name": "stdout",
     "text": [
      "['pig pig horse cow sheep', 'yellow green red red green', 'pig horse sheep pig cow', 'four three four four two', 'green red red red red', 'cow pig sheep cow sheep', 'four four four four three', 'one one four two one', 'four four four four three', 'horse pig cow horse sheep', 'red blue yellow yellow yellow', 'three one two three one', 'blue red red red green', 'blue yellow yellow green red', 'green red blue green yellow', 'sheep horse horse pig cow', 'green yellow yellow green yellow', 'two four four three three', 'green green blue green red', 'cow pig sheep sheep cow']\n",
      "['pig pig horse cow sheep', 'yellow green red red green', 'pig horse sheep pig cow', 'four three four four two', 'green red red red red', 'cow pig sheep cow sheep', 'four four four four three', 'one one four two one', 'four four four four three', 'horse pig cow horse sheep', 'red blue yellow yellow yellow', 'three one two three one', 'blue red red red green', 'blue yellow yellow green red', 'green red blue green yellow', 'sheep horse horse pig cow', 'green yellow yellow green yellow', 'two four four three three', 'green green blue green red', 'cow pig sheep sheep cow']\n",
      "[[0 1 0 0 1 0 2 0 1 0 0 0]\n",
      " [0 0 0 2 0 0 0 2 0 0 0 1]\n",
      " [0 1 0 0 1 0 2 0 1 0 0 0]\n",
      " [0 0 3 0 0 0 0 0 0 1 1 0]\n",
      " [0 0 0 1 0 0 0 4 0 0 0 0]\n",
      " [0 2 0 0 0 0 1 0 2 0 0 0]\n",
      " [0 0 4 0 0 0 0 0 0 1 0 0]\n",
      " [0 0 1 0 0 3 0 0 0 0 1 0]\n",
      " [0 0 4 0 0 0 0 0 0 1 0 0]\n",
      " [0 1 0 0 2 0 1 0 1 0 0 0]\n",
      " [1 0 0 0 0 0 0 1 0 0 0 3]\n",
      " [0 0 0 0 0 2 0 0 0 2 1 0]\n",
      " [1 0 0 1 0 0 0 3 0 0 0 0]\n",
      " [1 0 0 1 0 0 0 1 0 0 0 2]\n",
      " [1 0 0 2 0 0 0 1 0 0 0 1]\n",
      " [0 1 0 0 2 0 1 0 1 0 0 0]\n",
      " [0 0 0 2 0 0 0 0 0 0 0 3]\n",
      " [0 0 2 0 0 0 0 0 0 2 1 0]\n",
      " [1 0 0 3 0 0 0 1 0 0 0 0]\n",
      " [0 2 0 0 0 0 1 0 2 0 0 0]] ['blue', 'cow', 'four', 'green', 'horse', 'one', 'pig', 'red', 'sheep', 'three', 'two', 'yellow']\n",
      "C:\\Users\\ollie\\AppData\\Local\\Programs\\Python\\Python37\\lib\\site-packages\\umap\\umap_.py:1530: UserWarning:\n",
      "\n",
      "gradient function is not yet implemented for jaccard distance metric; inverse_transform will be unavailable\n",
      "\n"
     ]
    },
    {
     "output_type": "display_data",
     "data": {
      "application/vnd.plotly.v1+json": {
       "config": {
        "plotlyServerURL": "https://plot.ly"
       },
       "data": [
        {
         "customdata": [
          [
           "pig pig horse cow sheep"
          ],
          [
           "pig horse sheep pig cow"
          ],
          [
           "cow pig sheep cow sheep"
          ],
          [
           "horse pig cow horse sheep"
          ],
          [
           "sheep horse horse pig cow"
          ],
          [
           "cow pig sheep sheep cow"
          ]
         ],
         "hoverlabel": {
          "namelength": 0
         },
         "hovertemplate": "label=2<br>x=%{x}<br>y=%{y}<br>sentence=%{customdata[0]}",
         "legendgroup": "2",
         "marker": {
          "color": "#636efa",
          "symbol": "circle"
         },
         "mode": "markers",
         "name": "2",
         "showlegend": true,
         "type": "scatter",
         "x": [
          -5.5060529708862305,
          -6.159773826599121,
          -6.045579433441162,
          -5.605743885040283,
          -6.2479166984558105,
          -5.6341023445129395
         ],
         "xaxis": "x",
         "y": [
          6.773486137390137,
          7.016633033752441,
          7.322694301605225,
          7.2050580978393555,
          7.746884346008301,
          7.704296112060547
         ],
         "yaxis": "y"
        },
        {
         "customdata": [
          [
           "yellow green red red green"
          ],
          [
           "green red red red red"
          ],
          [
           "red blue yellow yellow yellow"
          ],
          [
           "blue red red red green"
          ],
          [
           "blue yellow yellow green red"
          ],
          [
           "green red blue green yellow"
          ],
          [
           "green yellow yellow green yellow"
          ],
          [
           "green green blue green red"
          ]
         ],
         "hoverlabel": {
          "namelength": 0
         },
         "hovertemplate": "label=1<br>x=%{x}<br>y=%{y}<br>sentence=%{customdata[0]}",
         "legendgroup": "1",
         "marker": {
          "color": "#EF553B",
          "symbol": "circle"
         },
         "mode": "markers",
         "name": "1",
         "showlegend": true,
         "type": "scatter",
         "x": [
          -22.770265579223633,
          -22.044347763061523,
          -23.13847541809082,
          -22.128795623779297,
          -22.574106216430664,
          -22.355478286743164,
          -22.954286575317383,
          -22.653453826904297
         ],
         "xaxis": "x",
         "y": [
          17.723962783813477,
          17.342103958129883,
          17.28752326965332,
          16.889150619506836,
          17.355634689331055,
          17.917652130126953,
          18.24677276611328,
          16.802602767944336
         ],
         "yaxis": "y"
        },
        {
         "customdata": [
          [
           "four three four four two"
          ],
          [
           "four four four four three"
          ],
          [
           "one one four two one"
          ],
          [
           "four four four four three"
          ],
          [
           "three one two three one"
          ],
          [
           "two four four three three"
          ]
         ],
         "hoverlabel": {
          "namelength": 0
         },
         "hovertemplate": "label=0<br>x=%{x}<br>y=%{y}<br>sentence=%{customdata[0]}",
         "legendgroup": "0",
         "marker": {
          "color": "#00cc96",
          "symbol": "circle"
         },
         "mode": "markers",
         "name": "0",
         "showlegend": true,
         "type": "scatter",
         "x": [
          -15.554193496704102,
          -15.279138565063477,
          -15.795689582824707,
          -15.171449661254883,
          -16.337799072265625,
          -15.898680686950684
         ],
         "xaxis": "x",
         "y": [
          10.418107986450195,
          11.380104064941406,
          11.103017807006836,
          10.893232345581055,
          11.077360153198242,
          10.767220497131348
         ],
         "yaxis": "y"
        }
       ],
       "layout": {
        "legend": {
         "title": {
          "text": "label"
         },
         "tracegroupgap": 0
        },
        "margin": {
         "t": 60
        },
        "template": {
         "data": {
          "bar": [
           {
            "error_x": {
             "color": "#2a3f5f"
            },
            "error_y": {
             "color": "#2a3f5f"
            },
            "marker": {
             "line": {
              "color": "#E5ECF6",
              "width": 0.5
             }
            },
            "type": "bar"
           }
          ],
          "barpolar": [
           {
            "marker": {
             "line": {
              "color": "#E5ECF6",
              "width": 0.5
             }
            },
            "type": "barpolar"
           }
          ],
          "carpet": [
           {
            "aaxis": {
             "endlinecolor": "#2a3f5f",
             "gridcolor": "white",
             "linecolor": "white",
             "minorgridcolor": "white",
             "startlinecolor": "#2a3f5f"
            },
            "baxis": {
             "endlinecolor": "#2a3f5f",
             "gridcolor": "white",
             "linecolor": "white",
             "minorgridcolor": "white",
             "startlinecolor": "#2a3f5f"
            },
            "type": "carpet"
           }
          ],
          "choropleth": [
           {
            "colorbar": {
             "outlinewidth": 0,
             "ticks": ""
            },
            "type": "choropleth"
           }
          ],
          "contour": [
           {
            "colorbar": {
             "outlinewidth": 0,
             "ticks": ""
            },
            "colorscale": [
             [
              0,
              "#0d0887"
             ],
             [
              0.1111111111111111,
              "#46039f"
             ],
             [
              0.2222222222222222,
              "#7201a8"
             ],
             [
              0.3333333333333333,
              "#9c179e"
             ],
             [
              0.4444444444444444,
              "#bd3786"
             ],
             [
              0.5555555555555556,
              "#d8576b"
             ],
             [
              0.6666666666666666,
              "#ed7953"
             ],
             [
              0.7777777777777778,
              "#fb9f3a"
             ],
             [
              0.8888888888888888,
              "#fdca26"
             ],
             [
              1,
              "#f0f921"
             ]
            ],
            "type": "contour"
           }
          ],
          "contourcarpet": [
           {
            "colorbar": {
             "outlinewidth": 0,
             "ticks": ""
            },
            "type": "contourcarpet"
           }
          ],
          "heatmap": [
           {
            "colorbar": {
             "outlinewidth": 0,
             "ticks": ""
            },
            "colorscale": [
             [
              0,
              "#0d0887"
             ],
             [
              0.1111111111111111,
              "#46039f"
             ],
             [
              0.2222222222222222,
              "#7201a8"
             ],
             [
              0.3333333333333333,
              "#9c179e"
             ],
             [
              0.4444444444444444,
              "#bd3786"
             ],
             [
              0.5555555555555556,
              "#d8576b"
             ],
             [
              0.6666666666666666,
              "#ed7953"
             ],
             [
              0.7777777777777778,
              "#fb9f3a"
             ],
             [
              0.8888888888888888,
              "#fdca26"
             ],
             [
              1,
              "#f0f921"
             ]
            ],
            "type": "heatmap"
           }
          ],
          "heatmapgl": [
           {
            "colorbar": {
             "outlinewidth": 0,
             "ticks": ""
            },
            "colorscale": [
             [
              0,
              "#0d0887"
             ],
             [
              0.1111111111111111,
              "#46039f"
             ],
             [
              0.2222222222222222,
              "#7201a8"
             ],
             [
              0.3333333333333333,
              "#9c179e"
             ],
             [
              0.4444444444444444,
              "#bd3786"
             ],
             [
              0.5555555555555556,
              "#d8576b"
             ],
             [
              0.6666666666666666,
              "#ed7953"
             ],
             [
              0.7777777777777778,
              "#fb9f3a"
             ],
             [
              0.8888888888888888,
              "#fdca26"
             ],
             [
              1,
              "#f0f921"
             ]
            ],
            "type": "heatmapgl"
           }
          ],
          "histogram": [
           {
            "marker": {
             "colorbar": {
              "outlinewidth": 0,
              "ticks": ""
             }
            },
            "type": "histogram"
           }
          ],
          "histogram2d": [
           {
            "colorbar": {
             "outlinewidth": 0,
             "ticks": ""
            },
            "colorscale": [
             [
              0,
              "#0d0887"
             ],
             [
              0.1111111111111111,
              "#46039f"
             ],
             [
              0.2222222222222222,
              "#7201a8"
             ],
             [
              0.3333333333333333,
              "#9c179e"
             ],
             [
              0.4444444444444444,
              "#bd3786"
             ],
             [
              0.5555555555555556,
              "#d8576b"
             ],
             [
              0.6666666666666666,
              "#ed7953"
             ],
             [
              0.7777777777777778,
              "#fb9f3a"
             ],
             [
              0.8888888888888888,
              "#fdca26"
             ],
             [
              1,
              "#f0f921"
             ]
            ],
            "type": "histogram2d"
           }
          ],
          "histogram2dcontour": [
           {
            "colorbar": {
             "outlinewidth": 0,
             "ticks": ""
            },
            "colorscale": [
             [
              0,
              "#0d0887"
             ],
             [
              0.1111111111111111,
              "#46039f"
             ],
             [
              0.2222222222222222,
              "#7201a8"
             ],
             [
              0.3333333333333333,
              "#9c179e"
             ],
             [
              0.4444444444444444,
              "#bd3786"
             ],
             [
              0.5555555555555556,
              "#d8576b"
             ],
             [
              0.6666666666666666,
              "#ed7953"
             ],
             [
              0.7777777777777778,
              "#fb9f3a"
             ],
             [
              0.8888888888888888,
              "#fdca26"
             ],
             [
              1,
              "#f0f921"
             ]
            ],
            "type": "histogram2dcontour"
           }
          ],
          "mesh3d": [
           {
            "colorbar": {
             "outlinewidth": 0,
             "ticks": ""
            },
            "type": "mesh3d"
           }
          ],
          "parcoords": [
           {
            "line": {
             "colorbar": {
              "outlinewidth": 0,
              "ticks": ""
             }
            },
            "type": "parcoords"
           }
          ],
          "pie": [
           {
            "automargin": true,
            "type": "pie"
           }
          ],
          "scatter": [
           {
            "marker": {
             "colorbar": {
              "outlinewidth": 0,
              "ticks": ""
             }
            },
            "type": "scatter"
           }
          ],
          "scatter3d": [
           {
            "line": {
             "colorbar": {
              "outlinewidth": 0,
              "ticks": ""
             }
            },
            "marker": {
             "colorbar": {
              "outlinewidth": 0,
              "ticks": ""
             }
            },
            "type": "scatter3d"
           }
          ],
          "scattercarpet": [
           {
            "marker": {
             "colorbar": {
              "outlinewidth": 0,
              "ticks": ""
             }
            },
            "type": "scattercarpet"
           }
          ],
          "scattergeo": [
           {
            "marker": {
             "colorbar": {
              "outlinewidth": 0,
              "ticks": ""
             }
            },
            "type": "scattergeo"
           }
          ],
          "scattergl": [
           {
            "marker": {
             "colorbar": {
              "outlinewidth": 0,
              "ticks": ""
             }
            },
            "type": "scattergl"
           }
          ],
          "scattermapbox": [
           {
            "marker": {
             "colorbar": {
              "outlinewidth": 0,
              "ticks": ""
             }
            },
            "type": "scattermapbox"
           }
          ],
          "scatterpolar": [
           {
            "marker": {
             "colorbar": {
              "outlinewidth": 0,
              "ticks": ""
             }
            },
            "type": "scatterpolar"
           }
          ],
          "scatterpolargl": [
           {
            "marker": {
             "colorbar": {
              "outlinewidth": 0,
              "ticks": ""
             }
            },
            "type": "scatterpolargl"
           }
          ],
          "scatterternary": [
           {
            "marker": {
             "colorbar": {
              "outlinewidth": 0,
              "ticks": ""
             }
            },
            "type": "scatterternary"
           }
          ],
          "surface": [
           {
            "colorbar": {
             "outlinewidth": 0,
             "ticks": ""
            },
            "colorscale": [
             [
              0,
              "#0d0887"
             ],
             [
              0.1111111111111111,
              "#46039f"
             ],
             [
              0.2222222222222222,
              "#7201a8"
             ],
             [
              0.3333333333333333,
              "#9c179e"
             ],
             [
              0.4444444444444444,
              "#bd3786"
             ],
             [
              0.5555555555555556,
              "#d8576b"
             ],
             [
              0.6666666666666666,
              "#ed7953"
             ],
             [
              0.7777777777777778,
              "#fb9f3a"
             ],
             [
              0.8888888888888888,
              "#fdca26"
             ],
             [
              1,
              "#f0f921"
             ]
            ],
            "type": "surface"
           }
          ],
          "table": [
           {
            "cells": {
             "fill": {
              "color": "#EBF0F8"
             },
             "line": {
              "color": "white"
             }
            },
            "header": {
             "fill": {
              "color": "#C8D4E3"
             },
             "line": {
              "color": "white"
             }
            },
            "type": "table"
           }
          ]
         },
         "layout": {
          "annotationdefaults": {
           "arrowcolor": "#2a3f5f",
           "arrowhead": 0,
           "arrowwidth": 1
          },
          "coloraxis": {
           "colorbar": {
            "outlinewidth": 0,
            "ticks": ""
           }
          },
          "colorscale": {
           "diverging": [
            [
             0,
             "#8e0152"
            ],
            [
             0.1,
             "#c51b7d"
            ],
            [
             0.2,
             "#de77ae"
            ],
            [
             0.3,
             "#f1b6da"
            ],
            [
             0.4,
             "#fde0ef"
            ],
            [
             0.5,
             "#f7f7f7"
            ],
            [
             0.6,
             "#e6f5d0"
            ],
            [
             0.7,
             "#b8e186"
            ],
            [
             0.8,
             "#7fbc41"
            ],
            [
             0.9,
             "#4d9221"
            ],
            [
             1,
             "#276419"
            ]
           ],
           "sequential": [
            [
             0,
             "#0d0887"
            ],
            [
             0.1111111111111111,
             "#46039f"
            ],
            [
             0.2222222222222222,
             "#7201a8"
            ],
            [
             0.3333333333333333,
             "#9c179e"
            ],
            [
             0.4444444444444444,
             "#bd3786"
            ],
            [
             0.5555555555555556,
             "#d8576b"
            ],
            [
             0.6666666666666666,
             "#ed7953"
            ],
            [
             0.7777777777777778,
             "#fb9f3a"
            ],
            [
             0.8888888888888888,
             "#fdca26"
            ],
            [
             1,
             "#f0f921"
            ]
           ],
           "sequentialminus": [
            [
             0,
             "#0d0887"
            ],
            [
             0.1111111111111111,
             "#46039f"
            ],
            [
             0.2222222222222222,
             "#7201a8"
            ],
            [
             0.3333333333333333,
             "#9c179e"
            ],
            [
             0.4444444444444444,
             "#bd3786"
            ],
            [
             0.5555555555555556,
             "#d8576b"
            ],
            [
             0.6666666666666666,
             "#ed7953"
            ],
            [
             0.7777777777777778,
             "#fb9f3a"
            ],
            [
             0.8888888888888888,
             "#fdca26"
            ],
            [
             1,
             "#f0f921"
            ]
           ]
          },
          "colorway": [
           "#636efa",
           "#EF553B",
           "#00cc96",
           "#ab63fa",
           "#FFA15A",
           "#19d3f3",
           "#FF6692",
           "#B6E880",
           "#FF97FF",
           "#FECB52"
          ],
          "font": {
           "color": "#2a3f5f"
          },
          "geo": {
           "bgcolor": "white",
           "lakecolor": "white",
           "landcolor": "#E5ECF6",
           "showlakes": true,
           "showland": true,
           "subunitcolor": "white"
          },
          "hoverlabel": {
           "align": "left"
          },
          "hovermode": "closest",
          "mapbox": {
           "style": "light"
          },
          "paper_bgcolor": "white",
          "plot_bgcolor": "#E5ECF6",
          "polar": {
           "angularaxis": {
            "gridcolor": "white",
            "linecolor": "white",
            "ticks": ""
           },
           "bgcolor": "#E5ECF6",
           "radialaxis": {
            "gridcolor": "white",
            "linecolor": "white",
            "ticks": ""
           }
          },
          "scene": {
           "xaxis": {
            "backgroundcolor": "#E5ECF6",
            "gridcolor": "white",
            "gridwidth": 2,
            "linecolor": "white",
            "showbackground": true,
            "ticks": "",
            "zerolinecolor": "white"
           },
           "yaxis": {
            "backgroundcolor": "#E5ECF6",
            "gridcolor": "white",
            "gridwidth": 2,
            "linecolor": "white",
            "showbackground": true,
            "ticks": "",
            "zerolinecolor": "white"
           },
           "zaxis": {
            "backgroundcolor": "#E5ECF6",
            "gridcolor": "white",
            "gridwidth": 2,
            "linecolor": "white",
            "showbackground": true,
            "ticks": "",
            "zerolinecolor": "white"
           }
          },
          "shapedefaults": {
           "line": {
            "color": "#2a3f5f"
           }
          },
          "ternary": {
           "aaxis": {
            "gridcolor": "white",
            "linecolor": "white",
            "ticks": ""
           },
           "baxis": {
            "gridcolor": "white",
            "linecolor": "white",
            "ticks": ""
           },
           "bgcolor": "#E5ECF6",
           "caxis": {
            "gridcolor": "white",
            "linecolor": "white",
            "ticks": ""
           }
          },
          "title": {
           "x": 0.05
          },
          "xaxis": {
           "automargin": true,
           "gridcolor": "white",
           "linecolor": "white",
           "ticks": "",
           "title": {
            "standoff": 15
           },
           "zerolinecolor": "white",
           "zerolinewidth": 2
          },
          "yaxis": {
           "automargin": true,
           "gridcolor": "white",
           "linecolor": "white",
           "ticks": "",
           "title": {
            "standoff": 15
           },
           "zerolinecolor": "white",
           "zerolinewidth": 2
          }
         }
        },
        "xaxis": {
         "anchor": "y",
         "domain": [
          0,
          1
         ],
         "title": {
          "text": "x"
         }
        },
        "yaxis": {
         "anchor": "x",
         "domain": [
          0,
          1
         ],
         "title": {
          "text": "y"
         }
        }
       }
      }
     },
     "metadata": {}
    }
   ],
   "source": [
    "def plot_sentences_and_labels(sentences, labels=None, metric='jaccard'):\n",
    "    bow, _ = get_bow_and_vocab(sentences) \n",
    "    \n",
    "    # Embed the vectors into 2d using UMAP with the given metric\n",
    "    reducer = umap.UMAP(metric=metric)\n",
    "    embedding = reducer.fit_transform(bow)\n",
    "    \n",
    "    # Create a DataFrame (it is required for px.scatter)\n",
    "    df = pd.DataFrame()\n",
    "    df['x'] = embedding[:, 0]\n",
    "    df['y'] = embedding[:, 1]\n",
    "    df['sentence'] = sentences\n",
    "    df['label'] = labels if labels else None\n",
    "    \n",
    "    # Create an interactive scatter plot, with colours given by the labels\n",
    "    color = 'label' if labels else None\n",
    "    fig = px.scatter(df, \n",
    "                     x='x',\n",
    "                     y='y', \n",
    "                     color=color,\n",
    "                     hover_data=['sentence'])\n",
    "    fig.show()\n",
    "\n",
    "numbers = ['one', 'two', 'three', 'four']\n",
    "colours = ['blue', 'yellow', 'red', 'green']\n",
    "animals = ['cow', 'sheep', 'pig', 'horse']\n",
    "vocabularies = [numbers, colours, animals]\n",
    "sentences, labels = generate_sentences_and_labels(vocabularies)\n",
    "print(sentences)\n",
    "plot_sentences_and_labels(sentences, labels)"
   ]
  },
  {
   "cell_type": "markdown",
   "metadata": {},
   "source": [
    "## Exercise 5: Experimenting with UMAP (Optional)"
   ]
  },
  {
   "cell_type": "code",
   "execution_count": 32,
   "metadata": {},
   "outputs": [],
   "source": [
    "# Q5.1.1 - Generate sentences with overlapping vocabularies "
   ]
  },
  {
   "cell_type": "code",
   "execution_count": 34,
   "metadata": {},
   "outputs": [],
   "source": [
    "numbers = ['one', 'two', 'three', 'four']\n",
    "colours = ['blue', 'yellow', 'red', 'green']\n",
    "animals = ['cow', 'sheep', 'pig', 'horse']\n",
    "vocabularies = [numbers, colours, animals]\n",
    "sentences, labels = generate_sentences_and_labels(vocabularies)\n",
    "plot_sentences_and_labels(sentences, labels)"
   ]
  },
  {
   "cell_type": "code",
   "execution_count": 46,
   "metadata": {},
   "outputs": [],
   "source": [
    "# Q5.1.2 - Plot these sentences\n",
    "#        - What do you see? \n",
    "#        - How are the clusters arranged in the space?"
   ]
  },
  {
   "cell_type": "code",
   "execution_count": null,
   "metadata": {},
   "outputs": [],
   "source": []
  }
 ],
 "metadata": {
  "kernelspec": {
   "name": "python3",
   "display_name": "Python 3.7.9 64-bit",
   "metadata": {
    "interpreter": {
     "hash": "343de2cd4032818e6bd6da839f7e326daa435e2ee81af0844da206feccdd3ad9"
    }
   }
  },
  "language_info": {
   "codemirror_mode": {
    "name": "ipython",
    "version": 3
   },
   "file_extension": ".py",
   "mimetype": "text/x-python",
   "name": "python",
   "nbconvert_exporter": "python",
   "pygments_lexer": "ipython3",
   "version": "3.7.9-final"
  }
 },
 "nbformat": 4,
 "nbformat_minor": 2
}